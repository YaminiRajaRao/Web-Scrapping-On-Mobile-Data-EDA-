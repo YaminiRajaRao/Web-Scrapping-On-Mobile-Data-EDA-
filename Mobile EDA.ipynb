{
 "cells": [
  {
   "cell_type": "markdown",
   "id": "f7500a58-bfc6-4bcc-884b-c97ebba1e69d",
   "metadata": {},
   "source": [
    "# Problem Statement"
   ]
  },
  {
   "cell_type": "markdown",
   "id": "35fd961c-03a3-4295-aed4-4475be50e5cc",
   "metadata": {},
   "source": [
    "based on the trends in mobile phone purchases changes in popular features.I would like to analyze customer reviews on different mobile phone models\n",
    "To detrmine which features are most important to the consumers while choosing a mobile phone and to examine which mobile phone brands are popular and \n",
    "mostly uisng although there are many different brands i want to give a clear suggestion to bought a mobile based on their budget and reviews we can \n",
    "easily predict the features what the consumers are expecting."
   ]
  },
  {
   "cell_type": "markdown",
   "id": "3867366e-dca2-42f8-aaf0-34fc04aaded9",
   "metadata": {},
   "source": [
    "# Import Libraries"
   ]
  },
  {
   "cell_type": "code",
   "execution_count": 1,
   "id": "87f9ab84-3235-4563-9e39-0fa44048d241",
   "metadata": {},
   "outputs": [],
   "source": [
    "import warnings\n",
    "warnings.filterwarnings('ignore')\n",
    "\n",
    "import requests\n",
    "from bs4 import BeautifulSoup\n",
    "import re\n",
    "\n",
    "import numpy as np\n",
    "import pandas as pd\n",
    "import matplotlib.pyplot as plt\n",
    "import seaborn as sns\n",
    "\n",
    "import time\n",
    "\n",
    "from IPython.core.interactiveshell import InteractiveShell\n",
    "InteractiveShell.ast_node_interactivity ='all'"
   ]
  },
  {
   "cell_type": "markdown",
   "id": "e9eecdd5-4338-46ea-a6e6-1fcd677d9538",
   "metadata": {},
   "source": [
    "# Scrapping the data from Website"
   ]
  },
  {
   "cell_type": "code",
   "execution_count": 196,
   "id": "2df437e2-b0c6-4842-a98b-1df22d6f58cb",
   "metadata": {},
   "outputs": [
    {
     "data": {
      "text/plain": [
       "<Response [500]>"
      ]
     },
     "execution_count": 196,
     "metadata": {},
     "output_type": "execute_result"
    },
    {
     "name": "stdout",
     "output_type": "stream",
     "text": [
      "<Response [200]>\n",
      "24\n",
      "24\n",
      "24\n",
      "24\n"
     ]
    }
   ],
   "source": [
    "\n",
    "url='https://www.flipkart.com/search?q=mobiles+under+50000&otracker=search&otracker1=search&marketplace=FLIPKART&as-show=on&as=off&page=1'\n",
    "#print(url)\n",
    "\n",
    "requests.get(url,headers = {'User-Agent':'Mozilla/5.0'})\n",
    "headers = {\"Accept-Language\": \"en-US,en;q=0.9\"}\n",
    "r=requests.get(url, headers=headers)\n",
    "print(r)\n",
    "\n",
    "Names=[]\n",
    "Prices=[]\n",
    "Description=[]\n",
    "Reviews=[]\n",
    "\n",
    "soup=BeautifulSoup(r.text,'lxml')\n",
    "#print(soup)\n",
    "box=soup.find('div',class_='_1YokD2 _3Mn1Gg')\n",
    "names=box.find_all('div',class_='_4rR01T')\n",
    "#print(names)\n",
    "\n",
    "for i in names:\n",
    "    n=i.text\n",
    "    Names.append(n)\n",
    "print(len(Names))\n",
    "\n",
    "prices=box.find_all('div',class_='_30jeq3 _1_WHN1')\n",
    "for i in prices:\n",
    "    n=i.text\n",
    "    Prices.append(n)\n",
    "print(len(Prices))\n",
    "\n",
    "description=box.find_all('div',class_='fMghEO')\n",
    "for i in description:\n",
    "    n=i.text\n",
    "    Description.append(n)\n",
    "print(len(Description))\n",
    "\n",
    "reviews=box.find_all('div',class_='_3LWZlK')\n",
    "for i in reviews:\n",
    "    n=i.text\n",
    "    Reviews.append(n)\n",
    "print(len(Reviews))\n"
   ]
  },
  {
   "cell_type": "code",
   "execution_count": 221,
   "id": "430e97ff-08c8-4246-9726-fa4dbfb878ca",
   "metadata": {},
   "outputs": [
    {
     "data": {
      "text/plain": [
       "<Response [500]>"
      ]
     },
     "execution_count": 221,
     "metadata": {},
     "output_type": "execute_result"
    },
    {
     "name": "stdout",
     "output_type": "stream",
     "text": [
      "<Response [200]>\n",
      "24\n",
      "24\n",
      "24\n",
      "24\n",
      "48\n",
      "48\n",
      "48\n",
      "48\n",
      "72\n",
      "72\n",
      "72\n",
      "72\n",
      "96\n",
      "96\n",
      "96\n",
      "96\n",
      "120\n",
      "120\n",
      "120\n",
      "120\n",
      "144\n",
      "144\n",
      "144\n",
      "144\n",
      "168\n",
      "168\n",
      "168\n",
      "168\n",
      "192\n",
      "192\n",
      "192\n",
      "192\n",
      "216\n",
      "216\n",
      "216\n",
      "216\n",
      "240\n",
      "240\n",
      "240\n",
      "240\n",
      "264\n",
      "264\n",
      "264\n",
      "264\n",
      "288\n",
      "288\n",
      "288\n",
      "288\n",
      "312\n",
      "312\n",
      "312\n",
      "312\n",
      "336\n",
      "336\n",
      "336\n",
      "336\n",
      "360\n",
      "360\n",
      "360\n",
      "360\n",
      "384\n",
      "384\n",
      "384\n",
      "384\n",
      "408\n",
      "408\n",
      "408\n",
      "408\n",
      "432\n",
      "432\n",
      "432\n",
      "432\n",
      "456\n",
      "456\n",
      "456\n",
      "456\n",
      "480\n",
      "480\n",
      "480\n",
      "480\n",
      "504\n",
      "504\n",
      "504\n",
      "504\n",
      "528\n",
      "528\n",
      "528\n",
      "528\n"
     ]
    }
   ],
   "source": [
    "url='https://www.flipkart.com/search?q=mobiles+under+50000&otracker=search&otracker1=search&marketplace=FLIPKART&as-show=on&as=off&page=1'\n",
    "#print(url)\n",
    "\n",
    "requests.get(url,headers = {'User-Agent':'Mozilla/5.0'})\n",
    "headers = {\"Accept-Language\": \"en-US,en;q=0.9\"}\n",
    "r=requests.get(url, headers=headers)\n",
    "print(r)\n",
    "\n",
    "Names=[]\n",
    "Prices=[]\n",
    "Description=[]\n",
    "Reviews=[]\n",
    "for i in range(1,23):\n",
    "    soup=BeautifulSoup(r.text,'lxml')\n",
    "    #print(soup)\n",
    "    box=soup.find('div',class_='_1YokD2 _3Mn1Gg')\n",
    "    names=box.find_all('div',class_='_4rR01T')\n",
    "    #print(names)\n",
    "    \n",
    "    for i in names:\n",
    "        n=i.text\n",
    "        Names.append(n)\n",
    "    print(len(Names))\n",
    "    \n",
    "    prices=box.find_all('div',class_='_30jeq3 _1_WHN1')\n",
    "    for i in prices:\n",
    "        n=i.text\n",
    "        Prices.append(n)\n",
    "    print(len(Prices))\n",
    "    \n",
    "    description=box.find_all('div',class_='fMghEO')\n",
    "    for i in description:\n",
    "        n=i.text\n",
    "        Description.append(n)\n",
    "    print(len(Description))\n",
    "    \n",
    "    reviews=box.find_all('div',class_='_3LWZlK')\n",
    "    for i in reviews:\n",
    "        n=i.text\n",
    "        Reviews.append(n)\n",
    "    print(len(Reviews))\n"
   ]
  },
  {
   "cell_type": "markdown",
   "id": "0e9051f7-c138-4320-a523-68d9bc447518",
   "metadata": {},
   "source": [
    "# Creating a DataFrame"
   ]
  },
  {
   "cell_type": "code",
   "execution_count": 4,
   "id": "ba87c598-c73e-4d85-8756-f0060dce9e9e",
   "metadata": {},
   "outputs": [
    {
     "name": "stdout",
     "output_type": "stream",
     "text": [
      "                                           ProductName ProductPrices  \\\n",
      "0        REDMI Note 13 Pro+ 5G (Fusion Purple, 256 GB)       ₹31,999   \n",
      "1         REDMI Note 13 Pro+ 5G (Fusion White, 256 GB)       ₹31,999   \n",
      "2                 OnePlus 11R 5G (Sonic Black, 256 GB)       ₹36,096   \n",
      "3                      OnePlus 12R (Iron Grey, 256 GB)       ₹44,321   \n",
      "4                      OnePlus 12R (Cool Blue, 256 GB)       ₹44,080   \n",
      "..                                                 ...           ...   \n",
      "523                    Apple iPhone 11 (White, 128 GB)       ₹48,900   \n",
      "524  SAMSUNG Galaxy Z Flip3 5G (Phantom Black, 128 GB)       ₹45,999   \n",
      "525                Apple iPhone 6 Plus (Silver, 64 GB)       ₹48,999   \n",
      "526              OnePlus 11 5G (Eternal Green, 128 GB)       ₹56,999   \n",
      "527                OnePlus 11 5G (Titan Black, 128 GB)       ₹49,999   \n",
      "\n",
      "                                       ProductFeatures ProductReviews  \n",
      "0    8 GB RAM | 256 GB ROM16.94 cm (6.67 inch) Disp...            4.2  \n",
      "1    8 GB RAM | 256 GB ROM16.94 cm (6.67 inch) Disp...            4.2  \n",
      "2    16 GB RAM | 256 GB ROM17.02 cm (6.7 inch) Disp...            4.5  \n",
      "3    16 GB RAM | 256 GB ROM17.22 cm (6.78 inch) Dis...            4.5  \n",
      "4    16 GB RAM | 256 GB ROM17.22 cm (6.78 inch) Dis...            4.5  \n",
      "..                                                 ...            ...  \n",
      "523  128 GB ROM15.49 cm (6.1 inch) Liquid Retina HD...            4.6  \n",
      "524  8 GB RAM | 128 GB ROM17.02 cm (6.7 inch) Full ...            4.3  \n",
      "525  64 GB ROM13.97 cm (5.5 inch) Retina HD Display...            4.5  \n",
      "526  8 GB RAM | 128 GB ROM17.02 cm (6.7 inch) Displ...            4.4  \n",
      "527  8 GB RAM | 128 GB ROM17.02 cm (6.7 inch) Displ...            4.4  \n",
      "\n",
      "[528 rows x 4 columns]\n"
     ]
    }
   ],
   "source": [
    "df=pd.DataFrame({'ProductName':Names,'ProductPrices':Prices,'ProductFeatures':Description,'ProductReviews':Reviews})\n",
    "print(df)"
   ]
  },
  {
   "cell_type": "code",
   "execution_count": 5,
   "id": "dbb6f1a5-bcf8-4626-a232-73b077d57c03",
   "metadata": {},
   "outputs": [],
   "source": [
    "df.to_csv('mobile.csv')"
   ]
  },
  {
   "cell_type": "code",
   "execution_count": 35,
   "id": "a83d3855-9bb2-4fe7-8178-37e796585b20",
   "metadata": {},
   "outputs": [],
   "source": [
    "df=pd.read_csv('mobile.csv')"
   ]
  },
  {
   "cell_type": "code",
   "execution_count": 36,
   "id": "ebefe4c6-f823-4dd4-a21b-c3e27b09a5c1",
   "metadata": {},
   "outputs": [
    {
     "data": {
      "text/html": [
       "<div>\n",
       "<style scoped>\n",
       "    .dataframe tbody tr th:only-of-type {\n",
       "        vertical-align: middle;\n",
       "    }\n",
       "\n",
       "    .dataframe tbody tr th {\n",
       "        vertical-align: top;\n",
       "    }\n",
       "\n",
       "    .dataframe thead th {\n",
       "        text-align: right;\n",
       "    }\n",
       "</style>\n",
       "<table border=\"1\" class=\"dataframe\">\n",
       "  <thead>\n",
       "    <tr style=\"text-align: right;\">\n",
       "      <th></th>\n",
       "      <th>Unnamed: 0</th>\n",
       "      <th>ProductName</th>\n",
       "      <th>ProductPrices</th>\n",
       "      <th>ProductFeatures</th>\n",
       "      <th>ProductReviews</th>\n",
       "    </tr>\n",
       "  </thead>\n",
       "  <tbody>\n",
       "    <tr>\n",
       "      <th>0</th>\n",
       "      <td>0</td>\n",
       "      <td>REDMI Note 13 Pro+ 5G (Fusion Purple, 256 GB)</td>\n",
       "      <td>₹31,999</td>\n",
       "      <td>8 GB RAM | 256 GB ROM16.94 cm (6.67 inch) Disp...</td>\n",
       "      <td>4.2</td>\n",
       "    </tr>\n",
       "    <tr>\n",
       "      <th>1</th>\n",
       "      <td>1</td>\n",
       "      <td>REDMI Note 13 Pro+ 5G (Fusion White, 256 GB)</td>\n",
       "      <td>₹31,999</td>\n",
       "      <td>8 GB RAM | 256 GB ROM16.94 cm (6.67 inch) Disp...</td>\n",
       "      <td>4.2</td>\n",
       "    </tr>\n",
       "  </tbody>\n",
       "</table>\n",
       "</div>"
      ],
      "text/plain": [
       "   Unnamed: 0                                    ProductName ProductPrices  \\\n",
       "0           0  REDMI Note 13 Pro+ 5G (Fusion Purple, 256 GB)       ₹31,999   \n",
       "1           1   REDMI Note 13 Pro+ 5G (Fusion White, 256 GB)       ₹31,999   \n",
       "\n",
       "                                     ProductFeatures  ProductReviews  \n",
       "0  8 GB RAM | 256 GB ROM16.94 cm (6.67 inch) Disp...             4.2  \n",
       "1  8 GB RAM | 256 GB ROM16.94 cm (6.67 inch) Disp...             4.2  "
      ]
     },
     "execution_count": 36,
     "metadata": {},
     "output_type": "execute_result"
    }
   ],
   "source": [
    "df.head(2)"
   ]
  },
  {
   "cell_type": "markdown",
   "id": "13afc41c-f9ca-4313-9f25-54b6de872796",
   "metadata": {},
   "source": [
    "# Exploratory Data Analysis and Data Cleaning"
   ]
  },
  {
   "cell_type": "code",
   "execution_count": 37,
   "id": "28eb1068-8004-45c2-a1d4-f3e761b82c6d",
   "metadata": {},
   "outputs": [],
   "source": [
    "df['ProductPrices']=df['ProductPrices'].apply(lambda x:x.replace('₹','').replace(',','')).astype(float)"
   ]
  },
  {
   "cell_type": "code",
   "execution_count": 38,
   "id": "1d37928c-a74f-40e1-ab17-96c09141ebf0",
   "metadata": {},
   "outputs": [
    {
     "data": {
      "text/html": [
       "<div>\n",
       "<style scoped>\n",
       "    .dataframe tbody tr th:only-of-type {\n",
       "        vertical-align: middle;\n",
       "    }\n",
       "\n",
       "    .dataframe tbody tr th {\n",
       "        vertical-align: top;\n",
       "    }\n",
       "\n",
       "    .dataframe thead th {\n",
       "        text-align: right;\n",
       "    }\n",
       "</style>\n",
       "<table border=\"1\" class=\"dataframe\">\n",
       "  <thead>\n",
       "    <tr style=\"text-align: right;\">\n",
       "      <th></th>\n",
       "      <th>Unnamed: 0</th>\n",
       "      <th>ProductName</th>\n",
       "      <th>ProductPrices</th>\n",
       "      <th>ProductFeatures</th>\n",
       "      <th>ProductReviews</th>\n",
       "    </tr>\n",
       "  </thead>\n",
       "  <tbody>\n",
       "    <tr>\n",
       "      <th>0</th>\n",
       "      <td>0</td>\n",
       "      <td>REDMI Note 13 Pro+ 5G (Fusion Purple, 256 GB)</td>\n",
       "      <td>31999.0</td>\n",
       "      <td>8 GB RAM | 256 GB ROM16.94 cm (6.67 inch) Disp...</td>\n",
       "      <td>4.2</td>\n",
       "    </tr>\n",
       "    <tr>\n",
       "      <th>1</th>\n",
       "      <td>1</td>\n",
       "      <td>REDMI Note 13 Pro+ 5G (Fusion White, 256 GB)</td>\n",
       "      <td>31999.0</td>\n",
       "      <td>8 GB RAM | 256 GB ROM16.94 cm (6.67 inch) Disp...</td>\n",
       "      <td>4.2</td>\n",
       "    </tr>\n",
       "  </tbody>\n",
       "</table>\n",
       "</div>"
      ],
      "text/plain": [
       "   Unnamed: 0                                    ProductName  ProductPrices  \\\n",
       "0           0  REDMI Note 13 Pro+ 5G (Fusion Purple, 256 GB)        31999.0   \n",
       "1           1   REDMI Note 13 Pro+ 5G (Fusion White, 256 GB)        31999.0   \n",
       "\n",
       "                                     ProductFeatures  ProductReviews  \n",
       "0  8 GB RAM | 256 GB ROM16.94 cm (6.67 inch) Disp...             4.2  \n",
       "1  8 GB RAM | 256 GB ROM16.94 cm (6.67 inch) Disp...             4.2  "
      ]
     },
     "execution_count": 38,
     "metadata": {},
     "output_type": "execute_result"
    }
   ],
   "source": [
    "df.head(2)"
   ]
  },
  {
   "cell_type": "code",
   "execution_count": 39,
   "id": "d9a4d1c8-a35e-469f-83d7-ea8b8e7ce154",
   "metadata": {},
   "outputs": [
    {
     "data": {
      "text/plain": [
       "['8']"
      ]
     },
     "execution_count": 39,
     "metadata": {},
     "output_type": "execute_result"
    }
   ],
   "source": [
    "re.findall(r'\\b8\\b',df.ProductFeatures[0])"
   ]
  },
  {
   "cell_type": "code",
   "execution_count": 40,
   "id": "f07a9de9-28d2-427f-b876-54f87b4b746a",
   "metadata": {},
   "outputs": [],
   "source": [
    "df['RAM']=df['ProductFeatures'].apply(lambda x:' '.join(re.findall(r'\\b8\\b',x)))"
   ]
  },
  {
   "cell_type": "code",
   "execution_count": 41,
   "id": "f03d99cc-de53-4450-ba14-d868873782d7",
   "metadata": {},
   "outputs": [
    {
     "data": {
      "text/html": [
       "<div>\n",
       "<style scoped>\n",
       "    .dataframe tbody tr th:only-of-type {\n",
       "        vertical-align: middle;\n",
       "    }\n",
       "\n",
       "    .dataframe tbody tr th {\n",
       "        vertical-align: top;\n",
       "    }\n",
       "\n",
       "    .dataframe thead th {\n",
       "        text-align: right;\n",
       "    }\n",
       "</style>\n",
       "<table border=\"1\" class=\"dataframe\">\n",
       "  <thead>\n",
       "    <tr style=\"text-align: right;\">\n",
       "      <th></th>\n",
       "      <th>Unnamed: 0</th>\n",
       "      <th>ProductName</th>\n",
       "      <th>ProductPrices</th>\n",
       "      <th>ProductFeatures</th>\n",
       "      <th>ProductReviews</th>\n",
       "      <th>RAM</th>\n",
       "    </tr>\n",
       "  </thead>\n",
       "  <tbody>\n",
       "    <tr>\n",
       "      <th>0</th>\n",
       "      <td>0</td>\n",
       "      <td>REDMI Note 13 Pro+ 5G (Fusion Purple, 256 GB)</td>\n",
       "      <td>31999.0</td>\n",
       "      <td>8 GB RAM | 256 GB ROM16.94 cm (6.67 inch) Disp...</td>\n",
       "      <td>4.2</td>\n",
       "      <td>8</td>\n",
       "    </tr>\n",
       "    <tr>\n",
       "      <th>1</th>\n",
       "      <td>1</td>\n",
       "      <td>REDMI Note 13 Pro+ 5G (Fusion White, 256 GB)</td>\n",
       "      <td>31999.0</td>\n",
       "      <td>8 GB RAM | 256 GB ROM16.94 cm (6.67 inch) Disp...</td>\n",
       "      <td>4.2</td>\n",
       "      <td>8</td>\n",
       "    </tr>\n",
       "  </tbody>\n",
       "</table>\n",
       "</div>"
      ],
      "text/plain": [
       "   Unnamed: 0                                    ProductName  ProductPrices  \\\n",
       "0           0  REDMI Note 13 Pro+ 5G (Fusion Purple, 256 GB)        31999.0   \n",
       "1           1   REDMI Note 13 Pro+ 5G (Fusion White, 256 GB)        31999.0   \n",
       "\n",
       "                                     ProductFeatures  ProductReviews RAM  \n",
       "0  8 GB RAM | 256 GB ROM16.94 cm (6.67 inch) Disp...             4.2   8  \n",
       "1  8 GB RAM | 256 GB ROM16.94 cm (6.67 inch) Disp...             4.2   8  "
      ]
     },
     "execution_count": 41,
     "metadata": {},
     "output_type": "execute_result"
    }
   ],
   "source": [
    "df.head(2)"
   ]
  },
  {
   "cell_type": "code",
   "execution_count": 42,
   "id": "f905d169-58dc-4f53-be93-6084575aea0a",
   "metadata": {},
   "outputs": [
    {
     "data": {
      "text/plain": [
       "['256']"
      ]
     },
     "execution_count": 42,
     "metadata": {},
     "output_type": "execute_result"
    }
   ],
   "source": [
    "re.findall(r'\\b256\\b',df.ProductFeatures[0])"
   ]
  },
  {
   "cell_type": "code",
   "execution_count": 43,
   "id": "9b0e887b-ff12-4176-ab0f-46ae48d7f699",
   "metadata": {},
   "outputs": [],
   "source": [
    "df['ROM']=df['ProductFeatures'].apply(lambda x:' '.join(re.findall(r'\\b256\\b',x)))"
   ]
  },
  {
   "cell_type": "code",
   "execution_count": 44,
   "id": "12a7d852-a2ea-4ae9-b547-cce78e6b45f2",
   "metadata": {},
   "outputs": [
    {
     "data": {
      "text/html": [
       "<div>\n",
       "<style scoped>\n",
       "    .dataframe tbody tr th:only-of-type {\n",
       "        vertical-align: middle;\n",
       "    }\n",
       "\n",
       "    .dataframe tbody tr th {\n",
       "        vertical-align: top;\n",
       "    }\n",
       "\n",
       "    .dataframe thead th {\n",
       "        text-align: right;\n",
       "    }\n",
       "</style>\n",
       "<table border=\"1\" class=\"dataframe\">\n",
       "  <thead>\n",
       "    <tr style=\"text-align: right;\">\n",
       "      <th></th>\n",
       "      <th>Unnamed: 0</th>\n",
       "      <th>ProductName</th>\n",
       "      <th>ProductPrices</th>\n",
       "      <th>ProductFeatures</th>\n",
       "      <th>ProductReviews</th>\n",
       "      <th>RAM</th>\n",
       "      <th>ROM</th>\n",
       "    </tr>\n",
       "  </thead>\n",
       "  <tbody>\n",
       "    <tr>\n",
       "      <th>0</th>\n",
       "      <td>0</td>\n",
       "      <td>REDMI Note 13 Pro+ 5G (Fusion Purple, 256 GB)</td>\n",
       "      <td>31999.0</td>\n",
       "      <td>8 GB RAM | 256 GB ROM16.94 cm (6.67 inch) Disp...</td>\n",
       "      <td>4.2</td>\n",
       "      <td>8</td>\n",
       "      <td>256</td>\n",
       "    </tr>\n",
       "    <tr>\n",
       "      <th>1</th>\n",
       "      <td>1</td>\n",
       "      <td>REDMI Note 13 Pro+ 5G (Fusion White, 256 GB)</td>\n",
       "      <td>31999.0</td>\n",
       "      <td>8 GB RAM | 256 GB ROM16.94 cm (6.67 inch) Disp...</td>\n",
       "      <td>4.2</td>\n",
       "      <td>8</td>\n",
       "      <td>256</td>\n",
       "    </tr>\n",
       "  </tbody>\n",
       "</table>\n",
       "</div>"
      ],
      "text/plain": [
       "   Unnamed: 0                                    ProductName  ProductPrices  \\\n",
       "0           0  REDMI Note 13 Pro+ 5G (Fusion Purple, 256 GB)        31999.0   \n",
       "1           1   REDMI Note 13 Pro+ 5G (Fusion White, 256 GB)        31999.0   \n",
       "\n",
       "                                     ProductFeatures  ProductReviews RAM  ROM  \n",
       "0  8 GB RAM | 256 GB ROM16.94 cm (6.67 inch) Disp...             4.2   8  256  \n",
       "1  8 GB RAM | 256 GB ROM16.94 cm (6.67 inch) Disp...             4.2   8  256  "
      ]
     },
     "execution_count": 44,
     "metadata": {},
     "output_type": "execute_result"
    }
   ],
   "source": [
    "df.head(2)"
   ]
  },
  {
   "cell_type": "code",
   "execution_count": 45,
   "id": "731b9d89-35e7-4bb7-b651-d0c045443e42",
   "metadata": {},
   "outputs": [
    {
     "data": {
      "text/plain": [
       "['Fusion Purple']"
      ]
     },
     "execution_count": 45,
     "metadata": {},
     "output_type": "execute_result"
    }
   ],
   "source": [
    "re.findall('\\(([\\w\\s]+),',df.ProductName[0])"
   ]
  },
  {
   "cell_type": "code",
   "execution_count": 46,
   "id": "f509a1c2-b464-4132-b8fb-9c129d8be1ed",
   "metadata": {},
   "outputs": [],
   "source": [
    "df['MobileColour']=df['ProductName'].apply(lambda x:' '.join(re.findall('\\(([\\w\\s]+)',x)))"
   ]
  },
  {
   "cell_type": "code",
   "execution_count": 47,
   "id": "d69c999d-8857-4340-8b47-a48a6e1453ca",
   "metadata": {},
   "outputs": [
    {
     "data": {
      "text/html": [
       "<div>\n",
       "<style scoped>\n",
       "    .dataframe tbody tr th:only-of-type {\n",
       "        vertical-align: middle;\n",
       "    }\n",
       "\n",
       "    .dataframe tbody tr th {\n",
       "        vertical-align: top;\n",
       "    }\n",
       "\n",
       "    .dataframe thead th {\n",
       "        text-align: right;\n",
       "    }\n",
       "</style>\n",
       "<table border=\"1\" class=\"dataframe\">\n",
       "  <thead>\n",
       "    <tr style=\"text-align: right;\">\n",
       "      <th></th>\n",
       "      <th>Unnamed: 0</th>\n",
       "      <th>ProductName</th>\n",
       "      <th>ProductPrices</th>\n",
       "      <th>ProductFeatures</th>\n",
       "      <th>ProductReviews</th>\n",
       "      <th>RAM</th>\n",
       "      <th>ROM</th>\n",
       "      <th>MobileColour</th>\n",
       "    </tr>\n",
       "  </thead>\n",
       "  <tbody>\n",
       "    <tr>\n",
       "      <th>0</th>\n",
       "      <td>0</td>\n",
       "      <td>REDMI Note 13 Pro+ 5G (Fusion Purple, 256 GB)</td>\n",
       "      <td>31999.0</td>\n",
       "      <td>8 GB RAM | 256 GB ROM16.94 cm (6.67 inch) Disp...</td>\n",
       "      <td>4.2</td>\n",
       "      <td>8</td>\n",
       "      <td>256</td>\n",
       "      <td>Fusion Purple</td>\n",
       "    </tr>\n",
       "    <tr>\n",
       "      <th>1</th>\n",
       "      <td>1</td>\n",
       "      <td>REDMI Note 13 Pro+ 5G (Fusion White, 256 GB)</td>\n",
       "      <td>31999.0</td>\n",
       "      <td>8 GB RAM | 256 GB ROM16.94 cm (6.67 inch) Disp...</td>\n",
       "      <td>4.2</td>\n",
       "      <td>8</td>\n",
       "      <td>256</td>\n",
       "      <td>Fusion White</td>\n",
       "    </tr>\n",
       "  </tbody>\n",
       "</table>\n",
       "</div>"
      ],
      "text/plain": [
       "   Unnamed: 0                                    ProductName  ProductPrices  \\\n",
       "0           0  REDMI Note 13 Pro+ 5G (Fusion Purple, 256 GB)        31999.0   \n",
       "1           1   REDMI Note 13 Pro+ 5G (Fusion White, 256 GB)        31999.0   \n",
       "\n",
       "                                     ProductFeatures  ProductReviews RAM  ROM  \\\n",
       "0  8 GB RAM | 256 GB ROM16.94 cm (6.67 inch) Disp...             4.2   8  256   \n",
       "1  8 GB RAM | 256 GB ROM16.94 cm (6.67 inch) Disp...             4.2   8  256   \n",
       "\n",
       "    MobileColour  \n",
       "0  Fusion Purple  \n",
       "1   Fusion White  "
      ]
     },
     "execution_count": 47,
     "metadata": {},
     "output_type": "execute_result"
    }
   ],
   "source": [
    "df.head(2)"
   ]
  },
  {
   "cell_type": "code",
   "execution_count": 48,
   "id": "c1549f9d-4c09-40bf-8948-dda64bea020c",
   "metadata": {},
   "outputs": [
    {
     "data": {
      "text/plain": [
       "['REDMI']"
      ]
     },
     "execution_count": 48,
     "metadata": {},
     "output_type": "execute_result"
    }
   ],
   "source": [
    "re.findall('^[A-Z]\\w+',df.ProductName[0])"
   ]
  },
  {
   "cell_type": "code",
   "execution_count": 49,
   "id": "826d53fd-4bae-4112-8fc7-1133259570f7",
   "metadata": {},
   "outputs": [],
   "source": [
    "df['BrandName']=df['ProductName'].apply(lambda x:' '.join(re.findall('^[A-Z]\\w+',x)))"
   ]
  },
  {
   "cell_type": "code",
   "execution_count": 50,
   "id": "64f4b379-635f-4e06-9598-199402f405ad",
   "metadata": {},
   "outputs": [
    {
     "data": {
      "text/html": [
       "<div>\n",
       "<style scoped>\n",
       "    .dataframe tbody tr th:only-of-type {\n",
       "        vertical-align: middle;\n",
       "    }\n",
       "\n",
       "    .dataframe tbody tr th {\n",
       "        vertical-align: top;\n",
       "    }\n",
       "\n",
       "    .dataframe thead th {\n",
       "        text-align: right;\n",
       "    }\n",
       "</style>\n",
       "<table border=\"1\" class=\"dataframe\">\n",
       "  <thead>\n",
       "    <tr style=\"text-align: right;\">\n",
       "      <th></th>\n",
       "      <th>Unnamed: 0</th>\n",
       "      <th>ProductName</th>\n",
       "      <th>ProductPrices</th>\n",
       "      <th>ProductFeatures</th>\n",
       "      <th>ProductReviews</th>\n",
       "      <th>RAM</th>\n",
       "      <th>ROM</th>\n",
       "      <th>MobileColour</th>\n",
       "      <th>BrandName</th>\n",
       "    </tr>\n",
       "  </thead>\n",
       "  <tbody>\n",
       "    <tr>\n",
       "      <th>0</th>\n",
       "      <td>0</td>\n",
       "      <td>REDMI Note 13 Pro+ 5G (Fusion Purple, 256 GB)</td>\n",
       "      <td>31999.0</td>\n",
       "      <td>8 GB RAM | 256 GB ROM16.94 cm (6.67 inch) Disp...</td>\n",
       "      <td>4.2</td>\n",
       "      <td>8</td>\n",
       "      <td>256</td>\n",
       "      <td>Fusion Purple</td>\n",
       "      <td>REDMI</td>\n",
       "    </tr>\n",
       "    <tr>\n",
       "      <th>1</th>\n",
       "      <td>1</td>\n",
       "      <td>REDMI Note 13 Pro+ 5G (Fusion White, 256 GB)</td>\n",
       "      <td>31999.0</td>\n",
       "      <td>8 GB RAM | 256 GB ROM16.94 cm (6.67 inch) Disp...</td>\n",
       "      <td>4.2</td>\n",
       "      <td>8</td>\n",
       "      <td>256</td>\n",
       "      <td>Fusion White</td>\n",
       "      <td>REDMI</td>\n",
       "    </tr>\n",
       "  </tbody>\n",
       "</table>\n",
       "</div>"
      ],
      "text/plain": [
       "   Unnamed: 0                                    ProductName  ProductPrices  \\\n",
       "0           0  REDMI Note 13 Pro+ 5G (Fusion Purple, 256 GB)        31999.0   \n",
       "1           1   REDMI Note 13 Pro+ 5G (Fusion White, 256 GB)        31999.0   \n",
       "\n",
       "                                     ProductFeatures  ProductReviews RAM  ROM  \\\n",
       "0  8 GB RAM | 256 GB ROM16.94 cm (6.67 inch) Disp...             4.2   8  256   \n",
       "1  8 GB RAM | 256 GB ROM16.94 cm (6.67 inch) Disp...             4.2   8  256   \n",
       "\n",
       "    MobileColour BrandName  \n",
       "0  Fusion Purple     REDMI  \n",
       "1   Fusion White     REDMI  "
      ]
     },
     "execution_count": 50,
     "metadata": {},
     "output_type": "execute_result"
    }
   ],
   "source": [
    "df.head(2)"
   ]
  },
  {
   "cell_type": "code",
   "execution_count": 51,
   "id": "8b3ecfd4-5304-4926-a291-983222528f82",
   "metadata": {},
   "outputs": [
    {
     "data": {
      "text/plain": [
       "['6.67']"
      ]
     },
     "execution_count": 51,
     "metadata": {},
     "output_type": "execute_result"
    }
   ],
   "source": [
    "re.findall('\\((\\d+\\.\\d+)\\s*inch\\)\\s',df.ProductFeatures[0])"
   ]
  },
  {
   "cell_type": "code",
   "execution_count": 52,
   "id": "fe90239b-46fd-46c1-bc55-ce060e469151",
   "metadata": {},
   "outputs": [],
   "source": [
    "df['Displayinch'] = df['ProductFeatures'].apply(lambda x: ' '.join(re.findall(r\"\\((\\d+\\.\\d+)\\s*inch\\)\\s\", x)))"
   ]
  },
  {
   "cell_type": "code",
   "execution_count": 53,
   "id": "66cb2fb7-448a-427d-9bbc-08b6efd32b42",
   "metadata": {},
   "outputs": [
    {
     "data": {
      "text/html": [
       "<div>\n",
       "<style scoped>\n",
       "    .dataframe tbody tr th:only-of-type {\n",
       "        vertical-align: middle;\n",
       "    }\n",
       "\n",
       "    .dataframe tbody tr th {\n",
       "        vertical-align: top;\n",
       "    }\n",
       "\n",
       "    .dataframe thead th {\n",
       "        text-align: right;\n",
       "    }\n",
       "</style>\n",
       "<table border=\"1\" class=\"dataframe\">\n",
       "  <thead>\n",
       "    <tr style=\"text-align: right;\">\n",
       "      <th></th>\n",
       "      <th>Unnamed: 0</th>\n",
       "      <th>ProductName</th>\n",
       "      <th>ProductPrices</th>\n",
       "      <th>ProductFeatures</th>\n",
       "      <th>ProductReviews</th>\n",
       "      <th>RAM</th>\n",
       "      <th>ROM</th>\n",
       "      <th>MobileColour</th>\n",
       "      <th>BrandName</th>\n",
       "      <th>Displayinch</th>\n",
       "    </tr>\n",
       "  </thead>\n",
       "  <tbody>\n",
       "    <tr>\n",
       "      <th>0</th>\n",
       "      <td>0</td>\n",
       "      <td>REDMI Note 13 Pro+ 5G (Fusion Purple, 256 GB)</td>\n",
       "      <td>31999.0</td>\n",
       "      <td>8 GB RAM | 256 GB ROM16.94 cm (6.67 inch) Disp...</td>\n",
       "      <td>4.2</td>\n",
       "      <td>8</td>\n",
       "      <td>256</td>\n",
       "      <td>Fusion Purple</td>\n",
       "      <td>REDMI</td>\n",
       "      <td>6.67</td>\n",
       "    </tr>\n",
       "    <tr>\n",
       "      <th>1</th>\n",
       "      <td>1</td>\n",
       "      <td>REDMI Note 13 Pro+ 5G (Fusion White, 256 GB)</td>\n",
       "      <td>31999.0</td>\n",
       "      <td>8 GB RAM | 256 GB ROM16.94 cm (6.67 inch) Disp...</td>\n",
       "      <td>4.2</td>\n",
       "      <td>8</td>\n",
       "      <td>256</td>\n",
       "      <td>Fusion White</td>\n",
       "      <td>REDMI</td>\n",
       "      <td>6.67</td>\n",
       "    </tr>\n",
       "  </tbody>\n",
       "</table>\n",
       "</div>"
      ],
      "text/plain": [
       "   Unnamed: 0                                    ProductName  ProductPrices  \\\n",
       "0           0  REDMI Note 13 Pro+ 5G (Fusion Purple, 256 GB)        31999.0   \n",
       "1           1   REDMI Note 13 Pro+ 5G (Fusion White, 256 GB)        31999.0   \n",
       "\n",
       "                                     ProductFeatures  ProductReviews RAM  ROM  \\\n",
       "0  8 GB RAM | 256 GB ROM16.94 cm (6.67 inch) Disp...             4.2   8  256   \n",
       "1  8 GB RAM | 256 GB ROM16.94 cm (6.67 inch) Disp...             4.2   8  256   \n",
       "\n",
       "    MobileColour BrandName Displayinch  \n",
       "0  Fusion Purple     REDMI        6.67  \n",
       "1   Fusion White     REDMI        6.67  "
      ]
     },
     "execution_count": 53,
     "metadata": {},
     "output_type": "execute_result"
    }
   ],
   "source": [
    "df.head(2)"
   ]
  },
  {
   "cell_type": "code",
   "execution_count": 54,
   "id": "f9dbe935-b9fb-4cc9-888c-8d4973d75a7d",
   "metadata": {},
   "outputs": [
    {
     "data": {
      "text/plain": [
       "['200', '8', '2', '16']"
      ]
     },
     "execution_count": 54,
     "metadata": {},
     "output_type": "execute_result"
    }
   ],
   "source": [
    "re.findall(r'(\\d+)MP',df.ProductFeatures[0])"
   ]
  },
  {
   "cell_type": "code",
   "execution_count": 55,
   "id": "7ea47092-8864-426c-bb35-a981928544a7",
   "metadata": {},
   "outputs": [],
   "source": [
    "df['Camera'] = df['ProductFeatures'].apply(lambda x: ' '.join(re.findall(r'(\\d+)MP', x)))"
   ]
  },
  {
   "cell_type": "code",
   "execution_count": 56,
   "id": "304bcbd6-dbf4-4ef4-ae49-460a7c5c7487",
   "metadata": {},
   "outputs": [
    {
     "data": {
      "text/html": [
       "<div>\n",
       "<style scoped>\n",
       "    .dataframe tbody tr th:only-of-type {\n",
       "        vertical-align: middle;\n",
       "    }\n",
       "\n",
       "    .dataframe tbody tr th {\n",
       "        vertical-align: top;\n",
       "    }\n",
       "\n",
       "    .dataframe thead th {\n",
       "        text-align: right;\n",
       "    }\n",
       "</style>\n",
       "<table border=\"1\" class=\"dataframe\">\n",
       "  <thead>\n",
       "    <tr style=\"text-align: right;\">\n",
       "      <th></th>\n",
       "      <th>Unnamed: 0</th>\n",
       "      <th>ProductName</th>\n",
       "      <th>ProductPrices</th>\n",
       "      <th>ProductFeatures</th>\n",
       "      <th>ProductReviews</th>\n",
       "      <th>RAM</th>\n",
       "      <th>ROM</th>\n",
       "      <th>MobileColour</th>\n",
       "      <th>BrandName</th>\n",
       "      <th>Displayinch</th>\n",
       "      <th>Camera</th>\n",
       "    </tr>\n",
       "  </thead>\n",
       "  <tbody>\n",
       "    <tr>\n",
       "      <th>0</th>\n",
       "      <td>0</td>\n",
       "      <td>REDMI Note 13 Pro+ 5G (Fusion Purple, 256 GB)</td>\n",
       "      <td>31999.0</td>\n",
       "      <td>8 GB RAM | 256 GB ROM16.94 cm (6.67 inch) Disp...</td>\n",
       "      <td>4.2</td>\n",
       "      <td>8</td>\n",
       "      <td>256</td>\n",
       "      <td>Fusion Purple</td>\n",
       "      <td>REDMI</td>\n",
       "      <td>6.67</td>\n",
       "      <td>200 8 2 16</td>\n",
       "    </tr>\n",
       "    <tr>\n",
       "      <th>1</th>\n",
       "      <td>1</td>\n",
       "      <td>REDMI Note 13 Pro+ 5G (Fusion White, 256 GB)</td>\n",
       "      <td>31999.0</td>\n",
       "      <td>8 GB RAM | 256 GB ROM16.94 cm (6.67 inch) Disp...</td>\n",
       "      <td>4.2</td>\n",
       "      <td>8</td>\n",
       "      <td>256</td>\n",
       "      <td>Fusion White</td>\n",
       "      <td>REDMI</td>\n",
       "      <td>6.67</td>\n",
       "      <td>200 8 2 16</td>\n",
       "    </tr>\n",
       "  </tbody>\n",
       "</table>\n",
       "</div>"
      ],
      "text/plain": [
       "   Unnamed: 0                                    ProductName  ProductPrices  \\\n",
       "0           0  REDMI Note 13 Pro+ 5G (Fusion Purple, 256 GB)        31999.0   \n",
       "1           1   REDMI Note 13 Pro+ 5G (Fusion White, 256 GB)        31999.0   \n",
       "\n",
       "                                     ProductFeatures  ProductReviews RAM  ROM  \\\n",
       "0  8 GB RAM | 256 GB ROM16.94 cm (6.67 inch) Disp...             4.2   8  256   \n",
       "1  8 GB RAM | 256 GB ROM16.94 cm (6.67 inch) Disp...             4.2   8  256   \n",
       "\n",
       "    MobileColour BrandName Displayinch      Camera  \n",
       "0  Fusion Purple     REDMI        6.67  200 8 2 16  \n",
       "1   Fusion White     REDMI        6.67  200 8 2 16  "
      ]
     },
     "execution_count": 56,
     "metadata": {},
     "output_type": "execute_result"
    }
   ],
   "source": [
    "df.head(2)"
   ]
  },
  {
   "cell_type": "code",
   "execution_count": 57,
   "id": "e22c2e0c-ff3a-4459-959a-aa874b297c1b",
   "metadata": {},
   "outputs": [],
   "source": [
    "df.drop('ProductFeatures',axis=1,inplace=True)"
   ]
  },
  {
   "cell_type": "code",
   "execution_count": 58,
   "id": "29eda85a-f662-4581-9bed-1b6a4c931651",
   "metadata": {},
   "outputs": [
    {
     "data": {
      "text/html": [
       "<div>\n",
       "<style scoped>\n",
       "    .dataframe tbody tr th:only-of-type {\n",
       "        vertical-align: middle;\n",
       "    }\n",
       "\n",
       "    .dataframe tbody tr th {\n",
       "        vertical-align: top;\n",
       "    }\n",
       "\n",
       "    .dataframe thead th {\n",
       "        text-align: right;\n",
       "    }\n",
       "</style>\n",
       "<table border=\"1\" class=\"dataframe\">\n",
       "  <thead>\n",
       "    <tr style=\"text-align: right;\">\n",
       "      <th></th>\n",
       "      <th>Unnamed: 0</th>\n",
       "      <th>ProductName</th>\n",
       "      <th>ProductPrices</th>\n",
       "      <th>ProductReviews</th>\n",
       "      <th>RAM</th>\n",
       "      <th>ROM</th>\n",
       "      <th>MobileColour</th>\n",
       "      <th>BrandName</th>\n",
       "      <th>Displayinch</th>\n",
       "      <th>Camera</th>\n",
       "    </tr>\n",
       "  </thead>\n",
       "  <tbody>\n",
       "    <tr>\n",
       "      <th>0</th>\n",
       "      <td>0</td>\n",
       "      <td>REDMI Note 13 Pro+ 5G (Fusion Purple, 256 GB)</td>\n",
       "      <td>31999.0</td>\n",
       "      <td>4.2</td>\n",
       "      <td>8</td>\n",
       "      <td>256</td>\n",
       "      <td>Fusion Purple</td>\n",
       "      <td>REDMI</td>\n",
       "      <td>6.67</td>\n",
       "      <td>200 8 2 16</td>\n",
       "    </tr>\n",
       "    <tr>\n",
       "      <th>1</th>\n",
       "      <td>1</td>\n",
       "      <td>REDMI Note 13 Pro+ 5G (Fusion White, 256 GB)</td>\n",
       "      <td>31999.0</td>\n",
       "      <td>4.2</td>\n",
       "      <td>8</td>\n",
       "      <td>256</td>\n",
       "      <td>Fusion White</td>\n",
       "      <td>REDMI</td>\n",
       "      <td>6.67</td>\n",
       "      <td>200 8 2 16</td>\n",
       "    </tr>\n",
       "  </tbody>\n",
       "</table>\n",
       "</div>"
      ],
      "text/plain": [
       "   Unnamed: 0                                    ProductName  ProductPrices  \\\n",
       "0           0  REDMI Note 13 Pro+ 5G (Fusion Purple, 256 GB)        31999.0   \n",
       "1           1   REDMI Note 13 Pro+ 5G (Fusion White, 256 GB)        31999.0   \n",
       "\n",
       "   ProductReviews RAM  ROM   MobileColour BrandName Displayinch      Camera  \n",
       "0             4.2   8  256  Fusion Purple     REDMI        6.67  200 8 2 16  \n",
       "1             4.2   8  256   Fusion White     REDMI        6.67  200 8 2 16  "
      ]
     },
     "execution_count": 58,
     "metadata": {},
     "output_type": "execute_result"
    }
   ],
   "source": [
    "df.head(2)"
   ]
  },
  {
   "cell_type": "code",
   "execution_count": 59,
   "id": "6d6b0274-4866-48be-bc08-e144eaa04460",
   "metadata": {},
   "outputs": [
    {
     "data": {
      "text/plain": [
       "Index(['Unnamed: 0', 'ProductName', 'ProductPrices', 'ProductReviews', 'RAM',\n",
       "       'ROM', 'MobileColour', 'BrandName', 'Displayinch', 'Camera'],\n",
       "      dtype='object')"
      ]
     },
     "execution_count": 59,
     "metadata": {},
     "output_type": "execute_result"
    }
   ],
   "source": [
    "df.columns"
   ]
  },
  {
   "cell_type": "code",
   "execution_count": 60,
   "id": "f8c861a0-f1ef-414b-bd03-262b2745a238",
   "metadata": {},
   "outputs": [],
   "source": [
    "df.drop('Unnamed: 0',axis=1,inplace=True)"
   ]
  },
  {
   "cell_type": "code",
   "execution_count": 61,
   "id": "aee47f9a-c971-4639-99a5-256959a65e91",
   "metadata": {},
   "outputs": [
    {
     "data": {
      "text/html": [
       "<div>\n",
       "<style scoped>\n",
       "    .dataframe tbody tr th:only-of-type {\n",
       "        vertical-align: middle;\n",
       "    }\n",
       "\n",
       "    .dataframe tbody tr th {\n",
       "        vertical-align: top;\n",
       "    }\n",
       "\n",
       "    .dataframe thead th {\n",
       "        text-align: right;\n",
       "    }\n",
       "</style>\n",
       "<table border=\"1\" class=\"dataframe\">\n",
       "  <thead>\n",
       "    <tr style=\"text-align: right;\">\n",
       "      <th></th>\n",
       "      <th>ProductName</th>\n",
       "      <th>ProductPrices</th>\n",
       "      <th>ProductReviews</th>\n",
       "      <th>RAM</th>\n",
       "      <th>ROM</th>\n",
       "      <th>MobileColour</th>\n",
       "      <th>BrandName</th>\n",
       "      <th>Displayinch</th>\n",
       "      <th>Camera</th>\n",
       "    </tr>\n",
       "  </thead>\n",
       "  <tbody>\n",
       "    <tr>\n",
       "      <th>0</th>\n",
       "      <td>REDMI Note 13 Pro+ 5G (Fusion Purple, 256 GB)</td>\n",
       "      <td>31999.0</td>\n",
       "      <td>4.2</td>\n",
       "      <td>8</td>\n",
       "      <td>256</td>\n",
       "      <td>Fusion Purple</td>\n",
       "      <td>REDMI</td>\n",
       "      <td>6.67</td>\n",
       "      <td>200 8 2 16</td>\n",
       "    </tr>\n",
       "    <tr>\n",
       "      <th>1</th>\n",
       "      <td>REDMI Note 13 Pro+ 5G (Fusion White, 256 GB)</td>\n",
       "      <td>31999.0</td>\n",
       "      <td>4.2</td>\n",
       "      <td>8</td>\n",
       "      <td>256</td>\n",
       "      <td>Fusion White</td>\n",
       "      <td>REDMI</td>\n",
       "      <td>6.67</td>\n",
       "      <td>200 8 2 16</td>\n",
       "    </tr>\n",
       "  </tbody>\n",
       "</table>\n",
       "</div>"
      ],
      "text/plain": [
       "                                     ProductName  ProductPrices  \\\n",
       "0  REDMI Note 13 Pro+ 5G (Fusion Purple, 256 GB)        31999.0   \n",
       "1   REDMI Note 13 Pro+ 5G (Fusion White, 256 GB)        31999.0   \n",
       "\n",
       "   ProductReviews RAM  ROM   MobileColour BrandName Displayinch      Camera  \n",
       "0             4.2   8  256  Fusion Purple     REDMI        6.67  200 8 2 16  \n",
       "1             4.2   8  256   Fusion White     REDMI        6.67  200 8 2 16  "
      ]
     },
     "execution_count": 61,
     "metadata": {},
     "output_type": "execute_result"
    }
   ],
   "source": [
    "df.head(2)"
   ]
  },
  {
   "cell_type": "code",
   "execution_count": 62,
   "id": "9cb61409-b4ca-4aec-b26d-89fa6147c1bc",
   "metadata": {},
   "outputs": [],
   "source": [
    "df.drop('ProductName',axis=1,inplace=True)"
   ]
  },
  {
   "cell_type": "code",
   "execution_count": 30,
   "id": "6ab9a0a9-0781-4f57-9408-5f71b061d950",
   "metadata": {},
   "outputs": [
    {
     "data": {
      "text/html": [
       "<div>\n",
       "<style scoped>\n",
       "    .dataframe tbody tr th:only-of-type {\n",
       "        vertical-align: middle;\n",
       "    }\n",
       "\n",
       "    .dataframe tbody tr th {\n",
       "        vertical-align: top;\n",
       "    }\n",
       "\n",
       "    .dataframe thead th {\n",
       "        text-align: right;\n",
       "    }\n",
       "</style>\n",
       "<table border=\"1\" class=\"dataframe\">\n",
       "  <thead>\n",
       "    <tr style=\"text-align: right;\">\n",
       "      <th></th>\n",
       "      <th>ProductPrices</th>\n",
       "      <th>ProductReviews</th>\n",
       "      <th>RAM</th>\n",
       "      <th>ROM</th>\n",
       "      <th>MobileColour</th>\n",
       "      <th>BrandName</th>\n",
       "      <th>Displayinch</th>\n",
       "      <th>Camera</th>\n",
       "    </tr>\n",
       "  </thead>\n",
       "  <tbody>\n",
       "    <tr>\n",
       "      <th>0</th>\n",
       "      <td>31999.0</td>\n",
       "      <td>4.2</td>\n",
       "      <td>8</td>\n",
       "      <td>256</td>\n",
       "      <td>Fusion Purple</td>\n",
       "      <td>REDMI</td>\n",
       "      <td>6.67</td>\n",
       "      <td>200 8 2 16</td>\n",
       "    </tr>\n",
       "    <tr>\n",
       "      <th>1</th>\n",
       "      <td>31999.0</td>\n",
       "      <td>4.2</td>\n",
       "      <td>8</td>\n",
       "      <td>256</td>\n",
       "      <td>Fusion White</td>\n",
       "      <td>REDMI</td>\n",
       "      <td>6.67</td>\n",
       "      <td>200 8 2 16</td>\n",
       "    </tr>\n",
       "  </tbody>\n",
       "</table>\n",
       "</div>"
      ],
      "text/plain": [
       "   ProductPrices  ProductReviews RAM  ROM   MobileColour BrandName  \\\n",
       "0        31999.0             4.2   8  256  Fusion Purple     REDMI   \n",
       "1        31999.0             4.2   8  256   Fusion White     REDMI   \n",
       "\n",
       "  Displayinch      Camera  \n",
       "0        6.67  200 8 2 16  \n",
       "1        6.67  200 8 2 16  "
      ]
     },
     "execution_count": 30,
     "metadata": {},
     "output_type": "execute_result"
    }
   ],
   "source": [
    "df.head(2)"
   ]
  },
  {
   "cell_type": "markdown",
   "id": "6e476d26-3a04-44c0-be14-def0456e9a8a",
   "metadata": {},
   "source": [
    "# Create a New Data Frame"
   ]
  },
  {
   "cell_type": "code",
   "execution_count": 63,
   "id": "b7c45c33-8223-4542-8b1a-53f084de949d",
   "metadata": {},
   "outputs": [],
   "source": [
    "df.to_csv('Mobiledata.csv')"
   ]
  },
  {
   "cell_type": "code",
   "execution_count": 2,
   "id": "62a353c4-1e0e-47bf-81b0-c8172d1d3df6",
   "metadata": {},
   "outputs": [],
   "source": [
    "df=pd.read_csv('Mobiledata.csv')"
   ]
  },
  {
   "cell_type": "code",
   "execution_count": 3,
   "id": "5bedc48b-6c33-47e4-9d28-b9b801ac0174",
   "metadata": {},
   "outputs": [
    {
     "data": {
      "text/html": [
       "<div>\n",
       "<style scoped>\n",
       "    .dataframe tbody tr th:only-of-type {\n",
       "        vertical-align: middle;\n",
       "    }\n",
       "\n",
       "    .dataframe tbody tr th {\n",
       "        vertical-align: top;\n",
       "    }\n",
       "\n",
       "    .dataframe thead th {\n",
       "        text-align: right;\n",
       "    }\n",
       "</style>\n",
       "<table border=\"1\" class=\"dataframe\">\n",
       "  <thead>\n",
       "    <tr style=\"text-align: right;\">\n",
       "      <th></th>\n",
       "      <th>Unnamed: 0</th>\n",
       "      <th>ProductPrices</th>\n",
       "      <th>ProductReviews</th>\n",
       "      <th>RAM</th>\n",
       "      <th>ROM</th>\n",
       "      <th>MobileColour</th>\n",
       "      <th>BrandName</th>\n",
       "      <th>Displayinch</th>\n",
       "      <th>Camera</th>\n",
       "    </tr>\n",
       "  </thead>\n",
       "  <tbody>\n",
       "    <tr>\n",
       "      <th>0</th>\n",
       "      <td>0</td>\n",
       "      <td>31999.0</td>\n",
       "      <td>4.2</td>\n",
       "      <td>8.0</td>\n",
       "      <td>256.0</td>\n",
       "      <td>Fusion Purple</td>\n",
       "      <td>REDMI</td>\n",
       "      <td>6.67</td>\n",
       "      <td>200 8 2 16</td>\n",
       "    </tr>\n",
       "    <tr>\n",
       "      <th>1</th>\n",
       "      <td>1</td>\n",
       "      <td>31999.0</td>\n",
       "      <td>4.2</td>\n",
       "      <td>8.0</td>\n",
       "      <td>256.0</td>\n",
       "      <td>Fusion White</td>\n",
       "      <td>REDMI</td>\n",
       "      <td>6.67</td>\n",
       "      <td>200 8 2 16</td>\n",
       "    </tr>\n",
       "  </tbody>\n",
       "</table>\n",
       "</div>"
      ],
      "text/plain": [
       "   Unnamed: 0  ProductPrices  ProductReviews  RAM    ROM   MobileColour  \\\n",
       "0           0        31999.0             4.2  8.0  256.0  Fusion Purple   \n",
       "1           1        31999.0             4.2  8.0  256.0   Fusion White   \n",
       "\n",
       "  BrandName  Displayinch      Camera  \n",
       "0     REDMI         6.67  200 8 2 16  \n",
       "1     REDMI         6.67  200 8 2 16  "
      ]
     },
     "execution_count": 3,
     "metadata": {},
     "output_type": "execute_result"
    }
   ],
   "source": [
    "df.head(2)"
   ]
  },
  {
   "cell_type": "code",
   "execution_count": 4,
   "id": "8d5d0689-ddd5-4482-af24-f317cc4786d4",
   "metadata": {},
   "outputs": [],
   "source": [
    "df.drop('Unnamed: 0',axis=1,inplace=True)"
   ]
  },
  {
   "cell_type": "code",
   "execution_count": 5,
   "id": "4af97d30-a72c-4a0f-a2ac-c4f94fb89d91",
   "metadata": {},
   "outputs": [
    {
     "data": {
      "text/html": [
       "<div>\n",
       "<style scoped>\n",
       "    .dataframe tbody tr th:only-of-type {\n",
       "        vertical-align: middle;\n",
       "    }\n",
       "\n",
       "    .dataframe tbody tr th {\n",
       "        vertical-align: top;\n",
       "    }\n",
       "\n",
       "    .dataframe thead th {\n",
       "        text-align: right;\n",
       "    }\n",
       "</style>\n",
       "<table border=\"1\" class=\"dataframe\">\n",
       "  <thead>\n",
       "    <tr style=\"text-align: right;\">\n",
       "      <th></th>\n",
       "      <th>ProductPrices</th>\n",
       "      <th>ProductReviews</th>\n",
       "      <th>RAM</th>\n",
       "      <th>ROM</th>\n",
       "      <th>MobileColour</th>\n",
       "      <th>BrandName</th>\n",
       "      <th>Displayinch</th>\n",
       "      <th>Camera</th>\n",
       "    </tr>\n",
       "  </thead>\n",
       "  <tbody>\n",
       "    <tr>\n",
       "      <th>0</th>\n",
       "      <td>31999.0</td>\n",
       "      <td>4.2</td>\n",
       "      <td>8.0</td>\n",
       "      <td>256.0</td>\n",
       "      <td>Fusion Purple</td>\n",
       "      <td>REDMI</td>\n",
       "      <td>6.67</td>\n",
       "      <td>200 8 2 16</td>\n",
       "    </tr>\n",
       "    <tr>\n",
       "      <th>1</th>\n",
       "      <td>31999.0</td>\n",
       "      <td>4.2</td>\n",
       "      <td>8.0</td>\n",
       "      <td>256.0</td>\n",
       "      <td>Fusion White</td>\n",
       "      <td>REDMI</td>\n",
       "      <td>6.67</td>\n",
       "      <td>200 8 2 16</td>\n",
       "    </tr>\n",
       "  </tbody>\n",
       "</table>\n",
       "</div>"
      ],
      "text/plain": [
       "   ProductPrices  ProductReviews  RAM    ROM   MobileColour BrandName  \\\n",
       "0        31999.0             4.2  8.0  256.0  Fusion Purple     REDMI   \n",
       "1        31999.0             4.2  8.0  256.0   Fusion White     REDMI   \n",
       "\n",
       "   Displayinch      Camera  \n",
       "0         6.67  200 8 2 16  \n",
       "1         6.67  200 8 2 16  "
      ]
     },
     "execution_count": 5,
     "metadata": {},
     "output_type": "execute_result"
    }
   ],
   "source": [
    "df.head(2)"
   ]
  },
  {
   "cell_type": "code",
   "execution_count": 7,
   "id": "af45cea9-d5cd-4283-b59d-d45c7f3ae57d",
   "metadata": {
    "scrolled": true
   },
   "outputs": [
    {
     "data": {
      "text/html": [
       "<div>\n",
       "<style scoped>\n",
       "    .dataframe tbody tr th:only-of-type {\n",
       "        vertical-align: middle;\n",
       "    }\n",
       "\n",
       "    .dataframe tbody tr th {\n",
       "        vertical-align: top;\n",
       "    }\n",
       "\n",
       "    .dataframe thead th {\n",
       "        text-align: right;\n",
       "    }\n",
       "</style>\n",
       "<table border=\"1\" class=\"dataframe\">\n",
       "  <thead>\n",
       "    <tr style=\"text-align: right;\">\n",
       "      <th></th>\n",
       "      <th>ProductPrices</th>\n",
       "      <th>ProductReviews</th>\n",
       "      <th>RAM</th>\n",
       "      <th>ROM</th>\n",
       "      <th>Displayinch</th>\n",
       "    </tr>\n",
       "  </thead>\n",
       "  <tbody>\n",
       "    <tr>\n",
       "      <th>count</th>\n",
       "      <td>528.000000</td>\n",
       "      <td>528.000000</td>\n",
       "      <td>264.0</td>\n",
       "      <td>176.0</td>\n",
       "      <td>528.00000</td>\n",
       "    </tr>\n",
       "    <tr>\n",
       "      <th>mean</th>\n",
       "      <td>45545.000000</td>\n",
       "      <td>4.395833</td>\n",
       "      <td>8.0</td>\n",
       "      <td>256.0</td>\n",
       "      <td>6.48875</td>\n",
       "    </tr>\n",
       "    <tr>\n",
       "      <th>std</th>\n",
       "      <td>6435.476511</td>\n",
       "      <td>0.145852</td>\n",
       "      <td>0.0</td>\n",
       "      <td>0.0</td>\n",
       "      <td>0.31832</td>\n",
       "    </tr>\n",
       "    <tr>\n",
       "      <th>min</th>\n",
       "      <td>31999.000000</td>\n",
       "      <td>4.100000</td>\n",
       "      <td>8.0</td>\n",
       "      <td>256.0</td>\n",
       "      <td>5.50000</td>\n",
       "    </tr>\n",
       "    <tr>\n",
       "      <th>25%</th>\n",
       "      <td>44260.750000</td>\n",
       "      <td>4.300000</td>\n",
       "      <td>8.0</td>\n",
       "      <td>256.0</td>\n",
       "      <td>6.30000</td>\n",
       "    </tr>\n",
       "    <tr>\n",
       "      <th>50%</th>\n",
       "      <td>46999.000000</td>\n",
       "      <td>4.400000</td>\n",
       "      <td>8.0</td>\n",
       "      <td>256.0</td>\n",
       "      <td>6.67000</td>\n",
       "    </tr>\n",
       "    <tr>\n",
       "      <th>75%</th>\n",
       "      <td>48924.750000</td>\n",
       "      <td>4.500000</td>\n",
       "      <td>8.0</td>\n",
       "      <td>256.0</td>\n",
       "      <td>6.70000</td>\n",
       "    </tr>\n",
       "    <tr>\n",
       "      <th>max</th>\n",
       "      <td>56999.000000</td>\n",
       "      <td>4.600000</td>\n",
       "      <td>8.0</td>\n",
       "      <td>256.0</td>\n",
       "      <td>6.78000</td>\n",
       "    </tr>\n",
       "  </tbody>\n",
       "</table>\n",
       "</div>"
      ],
      "text/plain": [
       "       ProductPrices  ProductReviews    RAM    ROM  Displayinch\n",
       "count     528.000000      528.000000  264.0  176.0    528.00000\n",
       "mean    45545.000000        4.395833    8.0  256.0      6.48875\n",
       "std      6435.476511        0.145852    0.0    0.0      0.31832\n",
       "min     31999.000000        4.100000    8.0  256.0      5.50000\n",
       "25%     44260.750000        4.300000    8.0  256.0      6.30000\n",
       "50%     46999.000000        4.400000    8.0  256.0      6.67000\n",
       "75%     48924.750000        4.500000    8.0  256.0      6.70000\n",
       "max     56999.000000        4.600000    8.0  256.0      6.78000"
      ]
     },
     "execution_count": 7,
     "metadata": {},
     "output_type": "execute_result"
    }
   ],
   "source": [
    "df.describe()"
   ]
  },
  {
   "cell_type": "code",
   "execution_count": null,
   "id": "e452be24-d7a8-4ab0-9371-111ef3f5973c",
   "metadata": {},
   "outputs": [],
   "source": []
  },
  {
   "cell_type": "code",
   "execution_count": 14,
   "id": "24c16d75-037a-40ee-a853-f1166e5e1e4e",
   "metadata": {},
   "outputs": [
    {
     "data": {
      "text/plain": [
       "(528, 8)"
      ]
     },
     "execution_count": 14,
     "metadata": {},
     "output_type": "execute_result"
    }
   ],
   "source": [
    "df.shape"
   ]
  },
  {
   "cell_type": "code",
   "execution_count": null,
   "id": "9063631e-e709-4e93-b5da-f6a80ca2832d",
   "metadata": {},
   "outputs": [],
   "source": []
  },
  {
   "cell_type": "code",
   "execution_count": 11,
   "id": "17570b39-07be-48a9-b714-3028e9f713b1",
   "metadata": {},
   "outputs": [
    {
     "data": {
      "text/plain": [
       "ProductPrices       0\n",
       "ProductReviews      0\n",
       "RAM               264\n",
       "ROM               352\n",
       "MobileColour        0\n",
       "BrandName          44\n",
       "Displayinch         0\n",
       "Camera              0\n",
       "dtype: int64"
      ]
     },
     "execution_count": 11,
     "metadata": {},
     "output_type": "execute_result"
    }
   ],
   "source": [
    "df.isnull().sum()"
   ]
  },
  {
   "cell_type": "code",
   "execution_count": 10,
   "id": "5503bdf7-f661-4e50-a037-2c1a6afc7dd5",
   "metadata": {},
   "outputs": [
    {
     "data": {
      "text/plain": [
       "ProductPrices                                            24047760.0\n",
       "ProductReviews                                               2321.0\n",
       "RAM                                                          2112.0\n",
       "ROM                                                         45056.0\n",
       "MobileColour      Fusion PurpleFusion WhiteSonic BlackIron GreyC...\n",
       "Displayinch                                                 3426.06\n",
       "Camera            200 8 2 16200 8 2 1650505050 50 50 50200 8 2 1...\n",
       "dtype: object"
      ]
     },
     "execution_count": 10,
     "metadata": {},
     "output_type": "execute_result"
    }
   ],
   "source": [
    "df.sum()"
   ]
  },
  {
   "cell_type": "code",
   "execution_count": 11,
   "id": "389a97b7-54b5-4bc6-bd26-7b6e9b4a04be",
   "metadata": {},
   "outputs": [
    {
     "data": {
      "text/html": [
       "<div>\n",
       "<style scoped>\n",
       "    .dataframe tbody tr th:only-of-type {\n",
       "        vertical-align: middle;\n",
       "    }\n",
       "\n",
       "    .dataframe tbody tr th {\n",
       "        vertical-align: top;\n",
       "    }\n",
       "\n",
       "    .dataframe thead th {\n",
       "        text-align: right;\n",
       "    }\n",
       "</style>\n",
       "<table border=\"1\" class=\"dataframe\">\n",
       "  <thead>\n",
       "    <tr style=\"text-align: right;\">\n",
       "      <th></th>\n",
       "      <th>ProductPrices</th>\n",
       "      <th>ProductReviews</th>\n",
       "      <th>RAM</th>\n",
       "      <th>ROM</th>\n",
       "      <th>MobileColour</th>\n",
       "      <th>BrandName</th>\n",
       "      <th>Displayinch</th>\n",
       "      <th>Camera</th>\n",
       "    </tr>\n",
       "  </thead>\n",
       "  <tbody>\n",
       "    <tr>\n",
       "      <th>0</th>\n",
       "      <td>31999.0</td>\n",
       "      <td>4.2</td>\n",
       "      <td>8.0</td>\n",
       "      <td>256.0</td>\n",
       "      <td>Fusion Purple</td>\n",
       "      <td>REDMI</td>\n",
       "      <td>6.67</td>\n",
       "      <td>200 8 2 16</td>\n",
       "    </tr>\n",
       "    <tr>\n",
       "      <th>1</th>\n",
       "      <td>31999.0</td>\n",
       "      <td>4.2</td>\n",
       "      <td>8.0</td>\n",
       "      <td>256.0</td>\n",
       "      <td>Fusion White</td>\n",
       "      <td>REDMI</td>\n",
       "      <td>6.67</td>\n",
       "      <td>200 8 2 16</td>\n",
       "    </tr>\n",
       "    <tr>\n",
       "      <th>6</th>\n",
       "      <td>31999.0</td>\n",
       "      <td>4.2</td>\n",
       "      <td>8.0</td>\n",
       "      <td>256.0</td>\n",
       "      <td>Fusion Black</td>\n",
       "      <td>REDMI</td>\n",
       "      <td>6.67</td>\n",
       "      <td>200 8 2 16</td>\n",
       "    </tr>\n",
       "  </tbody>\n",
       "</table>\n",
       "</div>"
      ],
      "text/plain": [
       "   ProductPrices  ProductReviews  RAM    ROM   MobileColour BrandName  \\\n",
       "0        31999.0             4.2  8.0  256.0  Fusion Purple     REDMI   \n",
       "1        31999.0             4.2  8.0  256.0   Fusion White     REDMI   \n",
       "6        31999.0             4.2  8.0  256.0   Fusion Black     REDMI   \n",
       "\n",
       "   Displayinch      Camera  \n",
       "0         6.67  200 8 2 16  \n",
       "1         6.67  200 8 2 16  \n",
       "6         6.67  200 8 2 16  "
      ]
     },
     "execution_count": 11,
     "metadata": {},
     "output_type": "execute_result"
    }
   ],
   "source": [
    "df.nsmallest(3,'ProductPrices')"
   ]
  },
  {
   "cell_type": "code",
   "execution_count": 12,
   "id": "cc2cb45b-fba7-44b7-b61e-5ec822198e7b",
   "metadata": {},
   "outputs": [
    {
     "data": {
      "text/html": [
       "<div>\n",
       "<style scoped>\n",
       "    .dataframe tbody tr th:only-of-type {\n",
       "        vertical-align: middle;\n",
       "    }\n",
       "\n",
       "    .dataframe tbody tr th {\n",
       "        vertical-align: top;\n",
       "    }\n",
       "\n",
       "    .dataframe thead th {\n",
       "        text-align: right;\n",
       "    }\n",
       "</style>\n",
       "<table border=\"1\" class=\"dataframe\">\n",
       "  <thead>\n",
       "    <tr style=\"text-align: right;\">\n",
       "      <th></th>\n",
       "      <th>ProductPrices</th>\n",
       "      <th>ProductReviews</th>\n",
       "      <th>RAM</th>\n",
       "      <th>ROM</th>\n",
       "      <th>MobileColour</th>\n",
       "      <th>BrandName</th>\n",
       "      <th>Displayinch</th>\n",
       "      <th>Camera</th>\n",
       "    </tr>\n",
       "  </thead>\n",
       "  <tbody>\n",
       "    <tr>\n",
       "      <th>286</th>\n",
       "      <td>56999.0</td>\n",
       "      <td>4.4</td>\n",
       "      <td>8.0</td>\n",
       "      <td>NaN</td>\n",
       "      <td>Eternal Green</td>\n",
       "      <td>OnePlus</td>\n",
       "      <td>6.7</td>\n",
       "      <td>50 16</td>\n",
       "    </tr>\n",
       "    <tr>\n",
       "      <th>262</th>\n",
       "      <td>56999.0</td>\n",
       "      <td>4.4</td>\n",
       "      <td>8.0</td>\n",
       "      <td>NaN</td>\n",
       "      <td>Eternal Green</td>\n",
       "      <td>OnePlus</td>\n",
       "      <td>6.7</td>\n",
       "      <td>50 16</td>\n",
       "    </tr>\n",
       "    <tr>\n",
       "      <th>478</th>\n",
       "      <td>56999.0</td>\n",
       "      <td>4.4</td>\n",
       "      <td>8.0</td>\n",
       "      <td>NaN</td>\n",
       "      <td>Eternal Green</td>\n",
       "      <td>OnePlus</td>\n",
       "      <td>6.7</td>\n",
       "      <td>50 16</td>\n",
       "    </tr>\n",
       "  </tbody>\n",
       "</table>\n",
       "</div>"
      ],
      "text/plain": [
       "     ProductPrices  ProductReviews  RAM  ROM   MobileColour BrandName  \\\n",
       "286        56999.0             4.4  8.0  NaN  Eternal Green   OnePlus   \n",
       "262        56999.0             4.4  8.0  NaN  Eternal Green   OnePlus   \n",
       "478        56999.0             4.4  8.0  NaN  Eternal Green   OnePlus   \n",
       "\n",
       "     Displayinch Camera  \n",
       "286          6.7  50 16  \n",
       "262          6.7  50 16  \n",
       "478          6.7  50 16  "
      ]
     },
     "execution_count": 12,
     "metadata": {},
     "output_type": "execute_result"
    }
   ],
   "source": [
    "df.sort_values(by='ProductPrices',ascending=False).head(3)"
   ]
  },
  {
   "cell_type": "code",
   "execution_count": 70,
   "id": "1dd1f4e5-cb70-4cf5-8b8f-820a5ac7dd3a",
   "metadata": {},
   "outputs": [
    {
     "data": {
      "text/plain": [
       "45545.0"
      ]
     },
     "execution_count": 70,
     "metadata": {},
     "output_type": "execute_result"
    }
   ],
   "source": [
    "df.ProductPrices.mean()"
   ]
  },
  {
   "cell_type": "code",
   "execution_count": 71,
   "id": "e03aab17-793a-4a78-bb1a-ed284dd52a95",
   "metadata": {},
   "outputs": [
    {
     "data": {
      "text/plain": [
       "46999.0"
      ]
     },
     "execution_count": 71,
     "metadata": {},
     "output_type": "execute_result"
    }
   ],
   "source": [
    "df.ProductPrices.median()"
   ]
  },
  {
   "cell_type": "code",
   "execution_count": 72,
   "id": "e401b8d2-6af1-4d4b-a811-b62ad86db885",
   "metadata": {},
   "outputs": [
    {
     "data": {
      "text/plain": [
       "24047760.0"
      ]
     },
     "execution_count": 72,
     "metadata": {},
     "output_type": "execute_result"
    }
   ],
   "source": [
    "df.ProductPrices.sum()"
   ]
  },
  {
   "cell_type": "code",
   "execution_count": 73,
   "id": "414d3b1e-fa48-49df-997f-b5f7234b3d0d",
   "metadata": {},
   "outputs": [
    {
     "data": {
      "text/plain": [
       "6435.476511331056"
      ]
     },
     "execution_count": 73,
     "metadata": {},
     "output_type": "execute_result"
    }
   ],
   "source": [
    "df.ProductPrices.std()"
   ]
  },
  {
   "cell_type": "code",
   "execution_count": 74,
   "id": "507c667a-777f-4459-810c-37bb8b355cf2",
   "metadata": {},
   "outputs": [
    {
     "data": {
      "text/plain": [
       "41415357.927893735"
      ]
     },
     "execution_count": 74,
     "metadata": {},
     "output_type": "execute_result"
    }
   ],
   "source": [
    "df.ProductPrices.var()"
   ]
  },
  {
   "cell_type": "markdown",
   "id": "d8ec7787-a6a9-48bd-bda5-f60822f18fe2",
   "metadata": {},
   "source": [
    "#  Data Analysis and Visualization"
   ]
  },
  {
   "cell_type": "markdown",
   "id": "a16e34e4-6ce6-423f-bcd7-3421b8bf7001",
   "metadata": {},
   "source": [
    "# Univariate Analysis"
   ]
  },
  {
   "cell_type": "code",
   "execution_count": 70,
   "id": "1df6663a-956e-4ccd-9a33-ebb2bc889683",
   "metadata": {},
   "outputs": [
    {
     "data": {
      "text/plain": [
       "<Axes: >"
      ]
     },
     "execution_count": 70,
     "metadata": {},
     "output_type": "execute_result"
    },
    {
     "data": {
      "image/png": "[encoded data removed]",
      "text/plain": [
       "<Figure size 640x480 with 1 Axes>"
      ]
     },
     "metadata": {},
     "output_type": "display_data"
    }
   ],
   "source": [
    "#boxplot\n",
    "sns.boxplot(df['ProductReviews'])"
   ]
  },
  {
   "cell_type": "markdown",
   "id": "b52e11a5-12cf-4cec-ba7b-a382ebd2d547",
   "metadata": {},
   "source": [
    "Based on the boxplot of product reviews, with the x-axis representing the count value and the y-axis representing \n",
    "the product reviews. The boxplot shows that the majority of the product reviews are in the range between 4.3 and 4.5. The median value of the product \n",
    "reviews is 4.4, which indicates that the product has a high demand in the market."
   ]
  },
  {
   "cell_type": "code",
   "execution_count": null,
   "id": "1a72acda-3162-49bd-bcb4-4a6d22dce8cf",
   "metadata": {},
   "outputs": [],
   "source": []
  },
  {
   "cell_type": "code",
   "execution_count": 118,
   "id": "5596c809-eaa8-4bbc-a79e-bdcf7c78ad17",
   "metadata": {},
   "outputs": [
    {
     "data": {
      "text/plain": [
       "(array([ 66., 132.,  88.,   0.,  22.,  88.,   0.,  66.,  44.,  22.]),\n",
       " array([0. , 0.7, 1.4, 2.1, 2.8, 3.5, 4.2, 4.9, 5.6, 6.3, 7. ]),\n",
       " <BarContainer object of 10 artists>)"
      ]
     },
     "execution_count": 118,
     "metadata": {},
     "output_type": "execute_result"
    },
    {
     "data": {
      "image/png": "[encoded data removed]",
      "text/plain": [
       "<Figure size 640x480 with 1 Axes>"
      ]
     },
     "metadata": {},
     "output_type": "display_data"
    }
   ],
   "source": [
    "#histogram/distribution plot\n",
    "plt.hist(df.Displayinch)\n",
    "## from the histogram the graph represents"
   ]
  },
  {
   "cell_type": "markdown",
   "id": "7d01964c-8e86-405b-bab8-cade38d5c6d0",
   "metadata": {},
   "source": [
    "from the graph the x-axis represents the size of the dispaly in inches and the y-axis represents the count.from that we can conclude that the max size\n",
    "of the display is 6.7 and the min size of the display is 5.5,here what we can understand is  the max usage mobile contains the dispaly size is 6.7"
   ]
  },
  {
   "cell_type": "code",
   "execution_count": 11,
   "id": "c1bc0af5-b8dc-45f2-b414-9820a9e50531",
   "metadata": {},
   "outputs": [
    {
     "data": {
      "text/plain": [
       "<Figure size 640x480 with 0 Axes>"
      ]
     },
     "metadata": {},
     "output_type": "display_data"
    }
   ],
   "source": [
    "plt.savefig('Display.jpeg')"
   ]
  },
  {
   "cell_type": "code",
   "execution_count": 120,
   "id": "ee421fb6-49eb-4653-9aef-4e0e88db20a7",
   "metadata": {},
   "outputs": [
    {
     "data": {
      "text/plain": [
       "<Axes: >"
      ]
     },
     "execution_count": 120,
     "metadata": {},
     "output_type": "execute_result"
    },
    {
     "data": {
      "image/png": "[encoded data removed]",
      "text/plain": [
       "<Figure size 640x480 with 1 Axes>"
      ]
     },
     "metadata": {},
     "output_type": "display_data"
    }
   ],
   "source": [
    "#violin plot\n",
    "sns.violinplot(df['ProductPrices'])"
   ]
  },
  {
   "cell_type": "markdown",
   "id": "0d5e354a-7c8d-48c4-bfb3-c103b0312903",
   "metadata": {},
   "source": [
    "from the above plot the x-axis represents the count and the y-axis represents the prices of the products here the prices are starting from 30k to 60k \n",
    "but many are showing intrest to buy the price lies in between 40k to 55k but the median value for the prpoduct price is 46k.many people much showing \n",
    "intrest to buy mobile with their desired features in a budget so here we can understand the mobile we get with all features in the budget of 46k"
   ]
  },
  {
   "cell_type": "markdown",
   "id": "bc3c0313-d94e-43a8-8b37-18bc1ae87e7d",
   "metadata": {},
   "source": []
  },
  {
   "cell_type": "code",
   "execution_count": null,
   "id": "b79c4b39-f13a-4bb1-b788-d49f34392492",
   "metadata": {},
   "outputs": [],
   "source": []
  },
  {
   "cell_type": "code",
   "execution_count": 263,
   "id": "f6eaf951-f24e-4d23-9006-cb22ce9181e9",
   "metadata": {},
   "outputs": [
    {
     "data": {
      "text/plain": [
       "<Figure size 1500x500 with 0 Axes>"
      ]
     },
     "execution_count": 263,
     "metadata": {},
     "output_type": "execute_result"
    },
    {
     "data": {
      "text/plain": [
       "<Axes: xlabel='count', ylabel='MobileColour'>"
      ]
     },
     "execution_count": 263,
     "metadata": {},
     "output_type": "execute_result"
    },
    {
     "data": {
      "text/plain": [
       "Text(0.5, 1.0, 'mostly used')"
      ]
     },
     "execution_count": 263,
     "metadata": {},
     "output_type": "execute_result"
    },
    {
     "ename": "TypeError",
     "evalue": "'str' object is not callable",
     "output_type": "error",
     "traceback": [
      "\u001b[1;31m---------------------------------------------------------------------------\u001b[0m",
      "\u001b[1;31mTypeError\u001b[0m                                 Traceback (most recent call last)",
      "Cell \u001b[1;32mIn[263], line 5\u001b[0m\n\u001b[0;32m      3\u001b[0m sns\u001b[38;5;241m.\u001b[39mcountplot(y\u001b[38;5;241m=\u001b[39m\u001b[38;5;124m'\u001b[39m\u001b[38;5;124mMobileColour\u001b[39m\u001b[38;5;124m'\u001b[39m,data\u001b[38;5;241m=\u001b[39mdf)\n\u001b[0;32m      4\u001b[0m plt\u001b[38;5;241m.\u001b[39mtitle(\u001b[38;5;124m'\u001b[39m\u001b[38;5;124mmostly used\u001b[39m\u001b[38;5;124m'\u001b[39m)\n\u001b[1;32m----> 5\u001b[0m plt\u001b[38;5;241m.\u001b[39mxlabel(\u001b[38;5;124m'\u001b[39m\u001b[38;5;124mcount\u001b[39m\u001b[38;5;124m'\u001b[39m)\n\u001b[0;32m      6\u001b[0m plt\u001b[38;5;241m.\u001b[39mylabel(\u001b[38;5;124m'\u001b[39m\u001b[38;5;124mMobileColour\u001b[39m\u001b[38;5;124m'\u001b[39m)\n\u001b[0;32m      7\u001b[0m plt\u001b[38;5;241m.\u001b[39myticks(rotation\u001b[38;5;241m=\u001b[39m\u001b[38;5;241m90\u001b[39m)\n",
      "\u001b[1;31mTypeError\u001b[0m: 'str' object is not callable"
     ]
    },
    {
     "data": {
      "image/png": "[encoded data removed]",
      "text/plain": [
       "<Figure size 1500x500 with 1 Axes>"
      ]
     },
     "metadata": {},
     "output_type": "display_data"
    }
   ],
   "source": [
    "# count plot\n",
    "plt.figure(figsize=(15,5))\n",
    "sns.countplot(y='MobileColour',data=df)\n",
    "plt.title('mostly used')\n",
    "plt.xlabel('count')\n",
    "plt.ylabel('MobileColour')\n",
    "plt.yticks(rotation=90)\n",
    "plt.show()"
   ]
  },
  {
   "cell_type": "markdown",
   "id": "6c344f6c-cc93-4423-bc9a-50ee23137d2e",
   "metadata": {},
   "source": [
    "from the countplot the graphs shows that the y-axis represents the mobile colour and the x-axis represents the counts here the colour of the mobiles \n",
    "are in different colour but the maximum prefred colours are titan black and purple so people are mostly attracted to these two colours"
   ]
  },
  {
   "cell_type": "code",
   "execution_count": 121,
   "id": "dd12d779-9ae9-4af5-b06e-3fc3b76883dd",
   "metadata": {},
   "outputs": [
    {
     "data": {
      "text/plain": [
       "50             88\n",
       "12 12 12       88\n",
       "200 8 2 16     66\n",
       "50 12 8        66\n",
       "50 50 50 50    44\n",
       "50 12 5 32     44\n",
       "50 16          44\n",
       "50 12 10       22\n",
       "48             22\n",
       "12 12 10       22\n",
       "8 2            22\n",
       "Name: Camera, dtype: int64"
      ]
     },
     "execution_count": 121,
     "metadata": {},
     "output_type": "execute_result"
    }
   ],
   "source": [
    "df.Camera.value_counts()"
   ]
  },
  {
   "cell_type": "code",
   "execution_count": 122,
   "id": "5eba2201-cbe4-46ea-a85d-73dc3600cb91",
   "metadata": {},
   "outputs": [
    {
     "data": {
      "text/plain": [
       "<Axes: >"
      ]
     },
     "execution_count": 122,
     "metadata": {},
     "output_type": "execute_result"
    },
    {
     "data": {
      "image/png": "[encoded data removed]",
      "text/plain": [
       "<Figure size 640x480 with 1 Axes>"
      ]
     },
     "metadata": {},
     "output_type": "display_data"
    }
   ],
   "source": [
    "#bar plot\n",
    "df.Camera.value_counts().plot.bar()"
   ]
  },
  {
   "cell_type": "markdown",
   "id": "0784cd74-ce78-49db-96ba-63e2cf00e211",
   "metadata": {},
   "source": [
    "the bar graph explains about the camera the x-axis represents the mp of camera and the y-axis represents the count. here two mp get the same counts \n",
    "so here what we observe is two mobiles have the same demand in the market so we need to focus into those brands."
   ]
  },
  {
   "cell_type": "code",
   "execution_count": 126,
   "id": "9faf949d-2536-485a-8c30-56ea48489f00",
   "metadata": {},
   "outputs": [
    {
     "data": {
      "text/plain": [
       "<Axes: ylabel='Camera'>"
      ]
     },
     "execution_count": 126,
     "metadata": {},
     "output_type": "execute_result"
    },
    {
     "data": {
      "image/png": "[encoded data removed]",
      "text/plain": [
       "<Figure size 640x480 with 1 Axes>"
      ]
     },
     "metadata": {},
     "output_type": "display_data"
    }
   ],
   "source": [
    "#pie chart\n",
    "df.Camera.value_counts().plot.pie(autopct='%.1f%%')"
   ]
  },
  {
   "cell_type": "markdown",
   "id": "b18c6c1d-04a6-41ff-afb0-2693bb227c16",
   "metadata": {},
   "source": [
    "here the pie chart represents the percentage of the counts that are appear in the bar graph"
   ]
  },
  {
   "cell_type": "markdown",
   "id": "2eaa8817-7bff-4a13-b8f6-2df91facf438",
   "metadata": {},
   "source": [
    "# Bivariate Analysis"
   ]
  },
  {
   "cell_type": "code",
   "execution_count": 47,
   "id": "407044dc-19af-4748-8f94-1fc971105093",
   "metadata": {},
   "outputs": [
    {
     "data": {
      "text/html": [
       "<div>\n",
       "<style scoped>\n",
       "    .dataframe tbody tr th:only-of-type {\n",
       "        vertical-align: middle;\n",
       "    }\n",
       "\n",
       "    .dataframe tbody tr th {\n",
       "        vertical-align: top;\n",
       "    }\n",
       "\n",
       "    .dataframe thead th {\n",
       "        text-align: right;\n",
       "    }\n",
       "</style>\n",
       "<table border=\"1\" class=\"dataframe\">\n",
       "  <thead>\n",
       "    <tr style=\"text-align: right;\">\n",
       "      <th></th>\n",
       "      <th></th>\n",
       "      <th>mean</th>\n",
       "    </tr>\n",
       "    <tr>\n",
       "      <th>MobileColour</th>\n",
       "      <th>BrandName</th>\n",
       "      <th></th>\n",
       "    </tr>\n",
       "  </thead>\n",
       "  <tbody>\n",
       "    <tr>\n",
       "      <th>Awesome Iceblue</th>\n",
       "      <th>SAMSUNG</th>\n",
       "      <td>45999.0</td>\n",
       "    </tr>\n",
       "    <tr>\n",
       "      <th>Awesome Navy</th>\n",
       "      <th>SAMSUNG</th>\n",
       "      <td>45999.0</td>\n",
       "    </tr>\n",
       "    <tr>\n",
       "      <th>Black</th>\n",
       "      <th>Apple</th>\n",
       "      <td>48900.0</td>\n",
       "    </tr>\n",
       "    <tr>\n",
       "      <th>Cool Blue</th>\n",
       "      <th>OnePlus</th>\n",
       "      <td>44080.0</td>\n",
       "    </tr>\n",
       "    <tr>\n",
       "      <th>Emerald Forest</th>\n",
       "      <th>OnePlus</th>\n",
       "      <td>41999.0</td>\n",
       "    </tr>\n",
       "    <tr>\n",
       "      <th>Eternal Green</th>\n",
       "      <th>OnePlus</th>\n",
       "      <td>56999.0</td>\n",
       "    </tr>\n",
       "    <tr>\n",
       "      <th>Fusion Black</th>\n",
       "      <th>REDMI</th>\n",
       "      <td>31999.0</td>\n",
       "    </tr>\n",
       "    <tr>\n",
       "      <th>Fusion Purple</th>\n",
       "      <th>REDMI</th>\n",
       "      <td>31999.0</td>\n",
       "    </tr>\n",
       "    <tr>\n",
       "      <th>Fusion White</th>\n",
       "      <th>REDMI</th>\n",
       "      <td>31999.0</td>\n",
       "    </tr>\n",
       "    <tr>\n",
       "      <th>Iron Grey</th>\n",
       "      <th>OnePlus</th>\n",
       "      <td>44321.0</td>\n",
       "    </tr>\n",
       "    <tr>\n",
       "      <th>Lemongrass</th>\n",
       "      <th>Google</th>\n",
       "      <td>46999.0</td>\n",
       "    </tr>\n",
       "    <tr>\n",
       "      <th>Obsidian</th>\n",
       "      <th>Google</th>\n",
       "      <td>46999.0</td>\n",
       "    </tr>\n",
       "    <tr>\n",
       "      <th>Phantom Black</th>\n",
       "      <th>SAMSUNG</th>\n",
       "      <td>45999.0</td>\n",
       "    </tr>\n",
       "    <tr>\n",
       "      <th rowspan=\"2\" valign=\"top\">Purple</th>\n",
       "      <th>Apple</th>\n",
       "      <td>48900.0</td>\n",
       "    </tr>\n",
       "    <tr>\n",
       "      <th>SAMSUNG</th>\n",
       "      <td>54999.0</td>\n",
       "    </tr>\n",
       "    <tr>\n",
       "      <th>Silver</th>\n",
       "      <th>Apple</th>\n",
       "      <td>48999.0</td>\n",
       "    </tr>\n",
       "    <tr>\n",
       "      <th>Snow</th>\n",
       "      <th>Google</th>\n",
       "      <td>46999.0</td>\n",
       "    </tr>\n",
       "    <tr>\n",
       "      <th>Sonic Black</th>\n",
       "      <th>OnePlus</th>\n",
       "      <td>36096.0</td>\n",
       "    </tr>\n",
       "    <tr>\n",
       "      <th>Titan Black</th>\n",
       "      <th>OnePlus</th>\n",
       "      <td>49999.0</td>\n",
       "    </tr>\n",
       "    <tr>\n",
       "      <th>White</th>\n",
       "      <th>Apple</th>\n",
       "      <td>48900.0</td>\n",
       "    </tr>\n",
       "    <tr>\n",
       "      <th>White Includes EarPods</th>\n",
       "      <th>Apple</th>\n",
       "      <td>49900.0</td>\n",
       "    </tr>\n",
       "  </tbody>\n",
       "</table>\n",
       "</div>"
      ],
      "text/plain": [
       "                                     mean\n",
       "MobileColour           BrandName         \n",
       "Awesome Iceblue        SAMSUNG    45999.0\n",
       "Awesome Navy           SAMSUNG    45999.0\n",
       "Black                  Apple      48900.0\n",
       "Cool Blue              OnePlus    44080.0\n",
       "Emerald Forest         OnePlus    41999.0\n",
       "Eternal Green          OnePlus    56999.0\n",
       "Fusion Black           REDMI      31999.0\n",
       "Fusion Purple          REDMI      31999.0\n",
       "Fusion White           REDMI      31999.0\n",
       "Iron Grey              OnePlus    44321.0\n",
       "Lemongrass             Google     46999.0\n",
       "Obsidian               Google     46999.0\n",
       "Phantom Black          SAMSUNG    45999.0\n",
       "Purple                 Apple      48900.0\n",
       "                       SAMSUNG    54999.0\n",
       "Silver                 Apple      48999.0\n",
       "Snow                   Google     46999.0\n",
       "Sonic Black            OnePlus    36096.0\n",
       "Titan Black            OnePlus    49999.0\n",
       "White                  Apple      48900.0\n",
       "White Includes EarPods Apple      49900.0"
      ]
     },
     "execution_count": 47,
     "metadata": {},
     "output_type": "execute_result"
    }
   ],
   "source": [
    "df.groupby(by=['MobileColour','BrandName'])['ProductPrices'].agg(['mean'])"
   ]
  },
  {
   "cell_type": "code",
   "execution_count": 48,
   "id": "6371e83f-45b0-4102-9944-72b57e4d2e5a",
   "metadata": {},
   "outputs": [
    {
     "data": {
      "text/html": [
       "<div>\n",
       "<style scoped>\n",
       "    .dataframe tbody tr th:only-of-type {\n",
       "        vertical-align: middle;\n",
       "    }\n",
       "\n",
       "    .dataframe tbody tr th {\n",
       "        vertical-align: top;\n",
       "    }\n",
       "\n",
       "    .dataframe thead th {\n",
       "        text-align: right;\n",
       "    }\n",
       "</style>\n",
       "<table border=\"1\" class=\"dataframe\">\n",
       "  <thead>\n",
       "    <tr style=\"text-align: right;\">\n",
       "      <th></th>\n",
       "      <th>ProductPrices</th>\n",
       "    </tr>\n",
       "    <tr>\n",
       "      <th>MobileColour</th>\n",
       "      <th></th>\n",
       "    </tr>\n",
       "  </thead>\n",
       "  <tbody>\n",
       "    <tr>\n",
       "      <th>Andaman Blue</th>\n",
       "      <td>46999.0</td>\n",
       "    </tr>\n",
       "    <tr>\n",
       "      <th>Awesome Iceblue</th>\n",
       "      <td>45999.0</td>\n",
       "    </tr>\n",
       "    <tr>\n",
       "      <th>Awesome Navy</th>\n",
       "      <td>45999.0</td>\n",
       "    </tr>\n",
       "    <tr>\n",
       "      <th>Black</th>\n",
       "      <td>48900.0</td>\n",
       "    </tr>\n",
       "    <tr>\n",
       "      <th>Classic Black</th>\n",
       "      <td>46999.0</td>\n",
       "    </tr>\n",
       "    <tr>\n",
       "      <th>Cool Blue</th>\n",
       "      <td>44080.0</td>\n",
       "    </tr>\n",
       "    <tr>\n",
       "      <th>Emerald Forest</th>\n",
       "      <td>41999.0</td>\n",
       "    </tr>\n",
       "    <tr>\n",
       "      <th>Eternal Green</th>\n",
       "      <td>56999.0</td>\n",
       "    </tr>\n",
       "    <tr>\n",
       "      <th>Fusion Black</th>\n",
       "      <td>31999.0</td>\n",
       "    </tr>\n",
       "    <tr>\n",
       "      <th>Fusion Purple</th>\n",
       "      <td>31999.0</td>\n",
       "    </tr>\n",
       "    <tr>\n",
       "      <th>Fusion White</th>\n",
       "      <td>31999.0</td>\n",
       "    </tr>\n",
       "    <tr>\n",
       "      <th>Iron Grey</th>\n",
       "      <td>44321.0</td>\n",
       "    </tr>\n",
       "    <tr>\n",
       "      <th>Lemongrass</th>\n",
       "      <td>46999.0</td>\n",
       "    </tr>\n",
       "    <tr>\n",
       "      <th>Obsidian</th>\n",
       "      <td>46999.0</td>\n",
       "    </tr>\n",
       "    <tr>\n",
       "      <th>Phantom Black</th>\n",
       "      <td>45999.0</td>\n",
       "    </tr>\n",
       "    <tr>\n",
       "      <th>Purple</th>\n",
       "      <td>51949.5</td>\n",
       "    </tr>\n",
       "    <tr>\n",
       "      <th>Silver</th>\n",
       "      <td>48999.0</td>\n",
       "    </tr>\n",
       "    <tr>\n",
       "      <th>Snow</th>\n",
       "      <td>46999.0</td>\n",
       "    </tr>\n",
       "    <tr>\n",
       "      <th>Sonic Black</th>\n",
       "      <td>36096.0</td>\n",
       "    </tr>\n",
       "    <tr>\n",
       "      <th>Titan Black</th>\n",
       "      <td>49999.0</td>\n",
       "    </tr>\n",
       "    <tr>\n",
       "      <th>White</th>\n",
       "      <td>48900.0</td>\n",
       "    </tr>\n",
       "    <tr>\n",
       "      <th>White Includes EarPods</th>\n",
       "      <td>49900.0</td>\n",
       "    </tr>\n",
       "  </tbody>\n",
       "</table>\n",
       "</div>"
      ],
      "text/plain": [
       "                        ProductPrices\n",
       "MobileColour                         \n",
       "Andaman Blue                  46999.0\n",
       "Awesome Iceblue               45999.0\n",
       "Awesome Navy                  45999.0\n",
       "Black                         48900.0\n",
       "Classic Black                 46999.0\n",
       "Cool Blue                     44080.0\n",
       "Emerald Forest                41999.0\n",
       "Eternal Green                 56999.0\n",
       "Fusion Black                  31999.0\n",
       "Fusion Purple                 31999.0\n",
       "Fusion White                  31999.0\n",
       "Iron Grey                     44321.0\n",
       "Lemongrass                    46999.0\n",
       "Obsidian                      46999.0\n",
       "Phantom Black                 45999.0\n",
       "Purple                        51949.5\n",
       "Silver                        48999.0\n",
       "Snow                          46999.0\n",
       "Sonic Black                   36096.0\n",
       "Titan Black                   49999.0\n",
       "White                         48900.0\n",
       "White Includes EarPods        49900.0"
      ]
     },
     "execution_count": 48,
     "metadata": {},
     "output_type": "execute_result"
    }
   ],
   "source": [
    "df.pivot_table(values='ProductPrices',index='MobileColour',aggfunc='mean')"
   ]
  },
  {
   "cell_type": "code",
   "execution_count": 49,
   "id": "a851a1ea-10af-4b39-9d31-533d7941b24f",
   "metadata": {},
   "outputs": [
    {
     "data": {
      "text/html": [
       "<div>\n",
       "<style scoped>\n",
       "    .dataframe tbody tr th:only-of-type {\n",
       "        vertical-align: middle;\n",
       "    }\n",
       "\n",
       "    .dataframe tbody tr th {\n",
       "        vertical-align: top;\n",
       "    }\n",
       "\n",
       "    .dataframe thead th {\n",
       "        text-align: right;\n",
       "    }\n",
       "</style>\n",
       "<table border=\"1\" class=\"dataframe\">\n",
       "  <thead>\n",
       "    <tr style=\"text-align: right;\">\n",
       "      <th>BrandName</th>\n",
       "      <th>Apple</th>\n",
       "      <th>Google</th>\n",
       "      <th>OnePlus</th>\n",
       "      <th>REDMI</th>\n",
       "      <th>SAMSUNG</th>\n",
       "    </tr>\n",
       "    <tr>\n",
       "      <th>MobileColour</th>\n",
       "      <th></th>\n",
       "      <th></th>\n",
       "      <th></th>\n",
       "      <th></th>\n",
       "      <th></th>\n",
       "    </tr>\n",
       "  </thead>\n",
       "  <tbody>\n",
       "    <tr>\n",
       "      <th>Awesome Iceblue</th>\n",
       "      <td>0</td>\n",
       "      <td>0</td>\n",
       "      <td>0</td>\n",
       "      <td>0</td>\n",
       "      <td>22</td>\n",
       "    </tr>\n",
       "    <tr>\n",
       "      <th>Awesome Navy</th>\n",
       "      <td>0</td>\n",
       "      <td>0</td>\n",
       "      <td>0</td>\n",
       "      <td>0</td>\n",
       "      <td>22</td>\n",
       "    </tr>\n",
       "    <tr>\n",
       "      <th>Black</th>\n",
       "      <td>22</td>\n",
       "      <td>0</td>\n",
       "      <td>0</td>\n",
       "      <td>0</td>\n",
       "      <td>0</td>\n",
       "    </tr>\n",
       "    <tr>\n",
       "      <th>Cool Blue</th>\n",
       "      <td>0</td>\n",
       "      <td>0</td>\n",
       "      <td>22</td>\n",
       "      <td>0</td>\n",
       "      <td>0</td>\n",
       "    </tr>\n",
       "    <tr>\n",
       "      <th>Emerald Forest</th>\n",
       "      <td>0</td>\n",
       "      <td>0</td>\n",
       "      <td>22</td>\n",
       "      <td>0</td>\n",
       "      <td>0</td>\n",
       "    </tr>\n",
       "    <tr>\n",
       "      <th>Eternal Green</th>\n",
       "      <td>0</td>\n",
       "      <td>0</td>\n",
       "      <td>22</td>\n",
       "      <td>0</td>\n",
       "      <td>0</td>\n",
       "    </tr>\n",
       "    <tr>\n",
       "      <th>Fusion Black</th>\n",
       "      <td>0</td>\n",
       "      <td>0</td>\n",
       "      <td>0</td>\n",
       "      <td>22</td>\n",
       "      <td>0</td>\n",
       "    </tr>\n",
       "    <tr>\n",
       "      <th>Fusion Purple</th>\n",
       "      <td>0</td>\n",
       "      <td>0</td>\n",
       "      <td>0</td>\n",
       "      <td>22</td>\n",
       "      <td>0</td>\n",
       "    </tr>\n",
       "    <tr>\n",
       "      <th>Fusion White</th>\n",
       "      <td>0</td>\n",
       "      <td>0</td>\n",
       "      <td>0</td>\n",
       "      <td>22</td>\n",
       "      <td>0</td>\n",
       "    </tr>\n",
       "    <tr>\n",
       "      <th>Iron Grey</th>\n",
       "      <td>0</td>\n",
       "      <td>0</td>\n",
       "      <td>22</td>\n",
       "      <td>0</td>\n",
       "      <td>0</td>\n",
       "    </tr>\n",
       "    <tr>\n",
       "      <th>Lemongrass</th>\n",
       "      <td>0</td>\n",
       "      <td>22</td>\n",
       "      <td>0</td>\n",
       "      <td>0</td>\n",
       "      <td>0</td>\n",
       "    </tr>\n",
       "    <tr>\n",
       "      <th>Obsidian</th>\n",
       "      <td>0</td>\n",
       "      <td>22</td>\n",
       "      <td>0</td>\n",
       "      <td>0</td>\n",
       "      <td>0</td>\n",
       "    </tr>\n",
       "    <tr>\n",
       "      <th>Phantom Black</th>\n",
       "      <td>0</td>\n",
       "      <td>0</td>\n",
       "      <td>0</td>\n",
       "      <td>0</td>\n",
       "      <td>22</td>\n",
       "    </tr>\n",
       "    <tr>\n",
       "      <th>Purple</th>\n",
       "      <td>22</td>\n",
       "      <td>0</td>\n",
       "      <td>0</td>\n",
       "      <td>0</td>\n",
       "      <td>22</td>\n",
       "    </tr>\n",
       "    <tr>\n",
       "      <th>Silver</th>\n",
       "      <td>22</td>\n",
       "      <td>0</td>\n",
       "      <td>0</td>\n",
       "      <td>0</td>\n",
       "      <td>0</td>\n",
       "    </tr>\n",
       "    <tr>\n",
       "      <th>Snow</th>\n",
       "      <td>0</td>\n",
       "      <td>22</td>\n",
       "      <td>0</td>\n",
       "      <td>0</td>\n",
       "      <td>0</td>\n",
       "    </tr>\n",
       "    <tr>\n",
       "      <th>Sonic Black</th>\n",
       "      <td>0</td>\n",
       "      <td>0</td>\n",
       "      <td>22</td>\n",
       "      <td>0</td>\n",
       "      <td>0</td>\n",
       "    </tr>\n",
       "    <tr>\n",
       "      <th>Titan Black</th>\n",
       "      <td>0</td>\n",
       "      <td>0</td>\n",
       "      <td>44</td>\n",
       "      <td>0</td>\n",
       "      <td>0</td>\n",
       "    </tr>\n",
       "    <tr>\n",
       "      <th>White</th>\n",
       "      <td>22</td>\n",
       "      <td>0</td>\n",
       "      <td>0</td>\n",
       "      <td>0</td>\n",
       "      <td>0</td>\n",
       "    </tr>\n",
       "    <tr>\n",
       "      <th>White Includes EarPods</th>\n",
       "      <td>22</td>\n",
       "      <td>0</td>\n",
       "      <td>0</td>\n",
       "      <td>0</td>\n",
       "      <td>0</td>\n",
       "    </tr>\n",
       "  </tbody>\n",
       "</table>\n",
       "</div>"
      ],
      "text/plain": [
       "BrandName               Apple  Google  OnePlus  REDMI  SAMSUNG\n",
       "MobileColour                                                  \n",
       "Awesome Iceblue             0       0        0      0       22\n",
       "Awesome Navy                0       0        0      0       22\n",
       "Black                      22       0        0      0        0\n",
       "Cool Blue                   0       0       22      0        0\n",
       "Emerald Forest              0       0       22      0        0\n",
       "Eternal Green               0       0       22      0        0\n",
       "Fusion Black                0       0        0     22        0\n",
       "Fusion Purple               0       0        0     22        0\n",
       "Fusion White                0       0        0     22        0\n",
       "Iron Grey                   0       0       22      0        0\n",
       "Lemongrass                  0      22        0      0        0\n",
       "Obsidian                    0      22        0      0        0\n",
       "Phantom Black               0       0        0      0       22\n",
       "Purple                     22       0        0      0       22\n",
       "Silver                     22       0        0      0        0\n",
       "Snow                        0      22        0      0        0\n",
       "Sonic Black                 0       0       22      0        0\n",
       "Titan Black                 0       0       44      0        0\n",
       "White                      22       0        0      0        0\n",
       "White Includes EarPods     22       0        0      0        0"
      ]
     },
     "execution_count": 49,
     "metadata": {},
     "output_type": "execute_result"
    }
   ],
   "source": [
    "pd.crosstab(df['MobileColour'],df['BrandName'])"
   ]
  },
  {
   "cell_type": "code",
   "execution_count": 50,
   "id": "4e315fc9-0a89-4069-ae12-a1fe2d715e88",
   "metadata": {},
   "outputs": [
    {
     "data": {
      "text/html": [
       "<div>\n",
       "<style scoped>\n",
       "    .dataframe tbody tr th:only-of-type {\n",
       "        vertical-align: middle;\n",
       "    }\n",
       "\n",
       "    .dataframe tbody tr th {\n",
       "        vertical-align: top;\n",
       "    }\n",
       "\n",
       "    .dataframe thead th {\n",
       "        text-align: right;\n",
       "    }\n",
       "</style>\n",
       "<table border=\"1\" class=\"dataframe\">\n",
       "  <thead>\n",
       "    <tr style=\"text-align: right;\">\n",
       "      <th></th>\n",
       "      <th>mean</th>\n",
       "    </tr>\n",
       "    <tr>\n",
       "      <th>ROM</th>\n",
       "      <th></th>\n",
       "    </tr>\n",
       "  </thead>\n",
       "  <tbody>\n",
       "    <tr>\n",
       "      <th>128 GB ROM</th>\n",
       "      <td>4.3750</td>\n",
       "    </tr>\n",
       "    <tr>\n",
       "      <th>256 GB ROM</th>\n",
       "      <td>4.3875</td>\n",
       "    </tr>\n",
       "    <tr>\n",
       "      <th>512 GB ROM</th>\n",
       "      <td>4.4000</td>\n",
       "    </tr>\n",
       "    <tr>\n",
       "      <th>64 GB ROM</th>\n",
       "      <td>4.5500</td>\n",
       "    </tr>\n",
       "  </tbody>\n",
       "</table>\n",
       "</div>"
      ],
      "text/plain": [
       "              mean\n",
       "ROM               \n",
       "128 GB ROM  4.3750\n",
       "256 GB ROM  4.3875\n",
       "512 GB ROM  4.4000\n",
       "64 GB ROM   4.5500"
      ]
     },
     "execution_count": 50,
     "metadata": {},
     "output_type": "execute_result"
    }
   ],
   "source": [
    "# continous and categorical column\n",
    "df.groupby(by=['ROM'])['ProductReviews'].agg(['mean'])"
   ]
  },
  {
   "cell_type": "code",
   "execution_count": 51,
   "id": "3ba7993e-62f9-43bd-bd7d-3bb64e54ef32",
   "metadata": {},
   "outputs": [
    {
     "data": {
      "text/html": [
       "<div>\n",
       "<style scoped>\n",
       "    .dataframe tbody tr th:only-of-type {\n",
       "        vertical-align: middle;\n",
       "    }\n",
       "\n",
       "    .dataframe tbody tr th {\n",
       "        vertical-align: top;\n",
       "    }\n",
       "\n",
       "    .dataframe thead th {\n",
       "        text-align: right;\n",
       "    }\n",
       "</style>\n",
       "<table border=\"1\" class=\"dataframe\">\n",
       "  <thead>\n",
       "    <tr style=\"text-align: right;\">\n",
       "      <th>ROM</th>\n",
       "      <th>128 GB ROM</th>\n",
       "      <th>256 GB ROM</th>\n",
       "      <th>64 GB ROM</th>\n",
       "    </tr>\n",
       "    <tr>\n",
       "      <th>BrandName</th>\n",
       "      <th></th>\n",
       "      <th></th>\n",
       "      <th></th>\n",
       "    </tr>\n",
       "  </thead>\n",
       "  <tbody>\n",
       "    <tr>\n",
       "      <th>Apple</th>\n",
       "      <td>66</td>\n",
       "      <td>0</td>\n",
       "      <td>44</td>\n",
       "    </tr>\n",
       "    <tr>\n",
       "      <th>Google</th>\n",
       "      <td>66</td>\n",
       "      <td>0</td>\n",
       "      <td>0</td>\n",
       "    </tr>\n",
       "    <tr>\n",
       "      <th>OnePlus</th>\n",
       "      <td>88</td>\n",
       "      <td>66</td>\n",
       "      <td>0</td>\n",
       "    </tr>\n",
       "    <tr>\n",
       "      <th>REDMI</th>\n",
       "      <td>0</td>\n",
       "      <td>66</td>\n",
       "      <td>0</td>\n",
       "    </tr>\n",
       "    <tr>\n",
       "      <th>SAMSUNG</th>\n",
       "      <td>44</td>\n",
       "      <td>44</td>\n",
       "      <td>0</td>\n",
       "    </tr>\n",
       "  </tbody>\n",
       "</table>\n",
       "</div>"
      ],
      "text/plain": [
       "ROM        128 GB ROM  256 GB ROM  64 GB ROM\n",
       "BrandName                                   \n",
       "Apple              66           0         44\n",
       "Google             66           0          0\n",
       "OnePlus            88          66          0\n",
       "REDMI               0          66          0\n",
       "SAMSUNG            44          44          0"
      ]
     },
     "execution_count": 51,
     "metadata": {},
     "output_type": "execute_result"
    }
   ],
   "source": [
    "pd.crosstab(df['BrandName'],df['ROM'])"
   ]
  },
  {
   "cell_type": "code",
   "execution_count": 244,
   "id": "8390d4bb-c986-4d83-bb54-041dc9acbc22",
   "metadata": {},
   "outputs": [
    {
     "data": {
      "text/html": [
       "<div>\n",
       "<style scoped>\n",
       "    .dataframe tbody tr th:only-of-type {\n",
       "        vertical-align: middle;\n",
       "    }\n",
       "\n",
       "    .dataframe tbody tr th {\n",
       "        vertical-align: top;\n",
       "    }\n",
       "\n",
       "    .dataframe thead th {\n",
       "        text-align: right;\n",
       "    }\n",
       "</style>\n",
       "<table border=\"1\" class=\"dataframe\">\n",
       "  <thead>\n",
       "    <tr style=\"text-align: right;\">\n",
       "      <th></th>\n",
       "      <th>ProductPrices</th>\n",
       "      <th>ProductReviews</th>\n",
       "      <th>RAM</th>\n",
       "      <th>ROM</th>\n",
       "      <th>MobileColour</th>\n",
       "      <th>BrandName</th>\n",
       "      <th>Displayinch</th>\n",
       "      <th>Camera</th>\n",
       "    </tr>\n",
       "  </thead>\n",
       "  <tbody>\n",
       "    <tr>\n",
       "      <th>0</th>\n",
       "      <td>31999.0</td>\n",
       "      <td>4.2</td>\n",
       "      <td>8.0</td>\n",
       "      <td>256.0</td>\n",
       "      <td>Fusion Purple</td>\n",
       "      <td>REDMI</td>\n",
       "      <td>6.67</td>\n",
       "      <td>200 8 2 16</td>\n",
       "    </tr>\n",
       "    <tr>\n",
       "      <th>1</th>\n",
       "      <td>31999.0</td>\n",
       "      <td>4.2</td>\n",
       "      <td>8.0</td>\n",
       "      <td>256.0</td>\n",
       "      <td>Fusion White</td>\n",
       "      <td>REDMI</td>\n",
       "      <td>6.67</td>\n",
       "      <td>200 8 2 16</td>\n",
       "    </tr>\n",
       "  </tbody>\n",
       "</table>\n",
       "</div>"
      ],
      "text/plain": [
       "   ProductPrices  ProductReviews  RAM    ROM   MobileColour BrandName  \\\n",
       "0        31999.0             4.2  8.0  256.0  Fusion Purple     REDMI   \n",
       "1        31999.0             4.2  8.0  256.0   Fusion White     REDMI   \n",
       "\n",
       "   Displayinch      Camera  \n",
       "0         6.67  200 8 2 16  \n",
       "1         6.67  200 8 2 16  "
      ]
     },
     "execution_count": 244,
     "metadata": {},
     "output_type": "execute_result"
    }
   ],
   "source": [
    "df.head(2)"
   ]
  },
  {
   "cell_type": "code",
   "execution_count": 53,
   "id": "0c5037f1-c126-49f4-9adb-a7cfde880671",
   "metadata": {},
   "outputs": [
    {
     "data": {
      "text/html": [
       "<div>\n",
       "<style scoped>\n",
       "    .dataframe tbody tr th:only-of-type {\n",
       "        vertical-align: middle;\n",
       "    }\n",
       "\n",
       "    .dataframe tbody tr th {\n",
       "        vertical-align: top;\n",
       "    }\n",
       "\n",
       "    .dataframe thead th {\n",
       "        text-align: right;\n",
       "    }\n",
       "</style>\n",
       "<table border=\"1\" class=\"dataframe\">\n",
       "  <thead>\n",
       "    <tr style=\"text-align: right;\">\n",
       "      <th></th>\n",
       "      <th>mean</th>\n",
       "    </tr>\n",
       "    <tr>\n",
       "      <th>RAM</th>\n",
       "      <th></th>\n",
       "    </tr>\n",
       "  </thead>\n",
       "  <tbody>\n",
       "    <tr>\n",
       "      <th>12 GB RAM</th>\n",
       "      <td>4.450</td>\n",
       "    </tr>\n",
       "    <tr>\n",
       "      <th>16 GB RAM</th>\n",
       "      <td>4.500</td>\n",
       "    </tr>\n",
       "    <tr>\n",
       "      <th>8 GB RAM</th>\n",
       "      <td>4.275</td>\n",
       "    </tr>\n",
       "  </tbody>\n",
       "</table>\n",
       "</div>"
      ],
      "text/plain": [
       "            mean\n",
       "RAM             \n",
       "12 GB RAM  4.450\n",
       "16 GB RAM  4.500\n",
       "8 GB RAM   4.275"
      ]
     },
     "execution_count": 53,
     "metadata": {},
     "output_type": "execute_result"
    }
   ],
   "source": [
    "df.groupby(by=['RAM'])['ProductReviews'].agg(['mean'])"
   ]
  },
  {
   "cell_type": "markdown",
   "id": "ce962f0a-10ed-469f-be76-2d5a537f2b5e",
   "metadata": {},
   "source": [
    "continous to continous variable"
   ]
  },
  {
   "cell_type": "code",
   "execution_count": 67,
   "id": "1ae3840a-5d07-4e0a-abe5-112ffcb6c00c",
   "metadata": {},
   "outputs": [
    {
     "data": {
      "text/html": [
       "<div>\n",
       "<style scoped>\n",
       "    .dataframe tbody tr th:only-of-type {\n",
       "        vertical-align: middle;\n",
       "    }\n",
       "\n",
       "    .dataframe tbody tr th {\n",
       "        vertical-align: top;\n",
       "    }\n",
       "\n",
       "    .dataframe thead th {\n",
       "        text-align: right;\n",
       "    }\n",
       "</style>\n",
       "<table border=\"1\" class=\"dataframe\">\n",
       "  <thead>\n",
       "    <tr style=\"text-align: right;\">\n",
       "      <th></th>\n",
       "      <th>ProductPrices</th>\n",
       "      <th>ProductReviews</th>\n",
       "    </tr>\n",
       "  </thead>\n",
       "  <tbody>\n",
       "    <tr>\n",
       "      <th>ProductPrices</th>\n",
       "      <td>1.000000</td>\n",
       "      <td>0.339141</td>\n",
       "    </tr>\n",
       "    <tr>\n",
       "      <th>ProductReviews</th>\n",
       "      <td>0.339141</td>\n",
       "      <td>1.000000</td>\n",
       "    </tr>\n",
       "  </tbody>\n",
       "</table>\n",
       "</div>"
      ],
      "text/plain": [
       "                ProductPrices  ProductReviews\n",
       "ProductPrices        1.000000        0.339141\n",
       "ProductReviews       0.339141        1.000000"
      ]
     },
     "execution_count": 67,
     "metadata": {},
     "output_type": "execute_result"
    }
   ],
   "source": [
    "df[['ProductPrices','ProductReviews']].corr()"
   ]
  },
  {
   "cell_type": "markdown",
   "id": "4fa02254-ad24-43c8-be42-6df64b5ff7b4",
   "metadata": {},
   "source": [
    "categorical to categorical variables"
   ]
  },
  {
   "cell_type": "code",
   "execution_count": 91,
   "id": "c0101062-667f-4f49-b548-3e0b0e81195a",
   "metadata": {},
   "outputs": [
    {
     "data": {
      "text/html": [
       "<div>\n",
       "<style scoped>\n",
       "    .dataframe tbody tr th:only-of-type {\n",
       "        vertical-align: middle;\n",
       "    }\n",
       "\n",
       "    .dataframe tbody tr th {\n",
       "        vertical-align: top;\n",
       "    }\n",
       "\n",
       "    .dataframe thead th {\n",
       "        text-align: right;\n",
       "    }\n",
       "</style>\n",
       "<table border=\"1\" class=\"dataframe\">\n",
       "  <thead>\n",
       "    <tr style=\"text-align: right;\">\n",
       "      <th>MobileColour</th>\n",
       "      <th>Awesome Iceblue</th>\n",
       "      <th>Awesome Navy</th>\n",
       "      <th>Black</th>\n",
       "      <th>Cool Blue</th>\n",
       "      <th>Emerald Forest</th>\n",
       "      <th>Eternal Green</th>\n",
       "      <th>Fusion Black</th>\n",
       "      <th>Fusion Purple</th>\n",
       "      <th>Fusion White</th>\n",
       "      <th>Iron Grey</th>\n",
       "      <th>Lemongrass</th>\n",
       "      <th>Obsidian</th>\n",
       "      <th>Phantom Black</th>\n",
       "      <th>Purple</th>\n",
       "      <th>Silver</th>\n",
       "      <th>Snow</th>\n",
       "      <th>Sonic Black</th>\n",
       "      <th>Titan Black</th>\n",
       "      <th>White</th>\n",
       "      <th>White Includes EarPods</th>\n",
       "    </tr>\n",
       "    <tr>\n",
       "      <th>BrandName</th>\n",
       "      <th></th>\n",
       "      <th></th>\n",
       "      <th></th>\n",
       "      <th></th>\n",
       "      <th></th>\n",
       "      <th></th>\n",
       "      <th></th>\n",
       "      <th></th>\n",
       "      <th></th>\n",
       "      <th></th>\n",
       "      <th></th>\n",
       "      <th></th>\n",
       "      <th></th>\n",
       "      <th></th>\n",
       "      <th></th>\n",
       "      <th></th>\n",
       "      <th></th>\n",
       "      <th></th>\n",
       "      <th></th>\n",
       "      <th></th>\n",
       "    </tr>\n",
       "  </thead>\n",
       "  <tbody>\n",
       "    <tr>\n",
       "      <th>Apple</th>\n",
       "      <td>0</td>\n",
       "      <td>0</td>\n",
       "      <td>22</td>\n",
       "      <td>0</td>\n",
       "      <td>0</td>\n",
       "      <td>0</td>\n",
       "      <td>0</td>\n",
       "      <td>0</td>\n",
       "      <td>0</td>\n",
       "      <td>0</td>\n",
       "      <td>0</td>\n",
       "      <td>0</td>\n",
       "      <td>0</td>\n",
       "      <td>22</td>\n",
       "      <td>22</td>\n",
       "      <td>0</td>\n",
       "      <td>0</td>\n",
       "      <td>0</td>\n",
       "      <td>22</td>\n",
       "      <td>22</td>\n",
       "    </tr>\n",
       "    <tr>\n",
       "      <th>Google</th>\n",
       "      <td>0</td>\n",
       "      <td>0</td>\n",
       "      <td>0</td>\n",
       "      <td>0</td>\n",
       "      <td>0</td>\n",
       "      <td>0</td>\n",
       "      <td>0</td>\n",
       "      <td>0</td>\n",
       "      <td>0</td>\n",
       "      <td>0</td>\n",
       "      <td>22</td>\n",
       "      <td>22</td>\n",
       "      <td>0</td>\n",
       "      <td>0</td>\n",
       "      <td>0</td>\n",
       "      <td>22</td>\n",
       "      <td>0</td>\n",
       "      <td>0</td>\n",
       "      <td>0</td>\n",
       "      <td>0</td>\n",
       "    </tr>\n",
       "    <tr>\n",
       "      <th>OnePlus</th>\n",
       "      <td>0</td>\n",
       "      <td>0</td>\n",
       "      <td>0</td>\n",
       "      <td>22</td>\n",
       "      <td>22</td>\n",
       "      <td>22</td>\n",
       "      <td>0</td>\n",
       "      <td>0</td>\n",
       "      <td>0</td>\n",
       "      <td>22</td>\n",
       "      <td>0</td>\n",
       "      <td>0</td>\n",
       "      <td>0</td>\n",
       "      <td>0</td>\n",
       "      <td>0</td>\n",
       "      <td>0</td>\n",
       "      <td>22</td>\n",
       "      <td>44</td>\n",
       "      <td>0</td>\n",
       "      <td>0</td>\n",
       "    </tr>\n",
       "    <tr>\n",
       "      <th>REDMI</th>\n",
       "      <td>0</td>\n",
       "      <td>0</td>\n",
       "      <td>0</td>\n",
       "      <td>0</td>\n",
       "      <td>0</td>\n",
       "      <td>0</td>\n",
       "      <td>22</td>\n",
       "      <td>22</td>\n",
       "      <td>22</td>\n",
       "      <td>0</td>\n",
       "      <td>0</td>\n",
       "      <td>0</td>\n",
       "      <td>0</td>\n",
       "      <td>0</td>\n",
       "      <td>0</td>\n",
       "      <td>0</td>\n",
       "      <td>0</td>\n",
       "      <td>0</td>\n",
       "      <td>0</td>\n",
       "      <td>0</td>\n",
       "    </tr>\n",
       "    <tr>\n",
       "      <th>SAMSUNG</th>\n",
       "      <td>22</td>\n",
       "      <td>22</td>\n",
       "      <td>0</td>\n",
       "      <td>0</td>\n",
       "      <td>0</td>\n",
       "      <td>0</td>\n",
       "      <td>0</td>\n",
       "      <td>0</td>\n",
       "      <td>0</td>\n",
       "      <td>0</td>\n",
       "      <td>0</td>\n",
       "      <td>0</td>\n",
       "      <td>22</td>\n",
       "      <td>22</td>\n",
       "      <td>0</td>\n",
       "      <td>0</td>\n",
       "      <td>0</td>\n",
       "      <td>0</td>\n",
       "      <td>0</td>\n",
       "      <td>0</td>\n",
       "    </tr>\n",
       "  </tbody>\n",
       "</table>\n",
       "</div>"
      ],
      "text/plain": [
       "MobileColour  Awesome Iceblue  Awesome Navy  Black  Cool Blue  Emerald Forest  \\\n",
       "BrandName                                                                       \n",
       "Apple                       0             0     22          0               0   \n",
       "Google                      0             0      0          0               0   \n",
       "OnePlus                     0             0      0         22              22   \n",
       "REDMI                       0             0      0          0               0   \n",
       "SAMSUNG                    22            22      0          0               0   \n",
       "\n",
       "MobileColour  Eternal Green  Fusion Black  Fusion Purple  Fusion White  \\\n",
       "BrandName                                                                \n",
       "Apple                     0             0              0             0   \n",
       "Google                    0             0              0             0   \n",
       "OnePlus                  22             0              0             0   \n",
       "REDMI                     0            22             22            22   \n",
       "SAMSUNG                   0             0              0             0   \n",
       "\n",
       "MobileColour  Iron Grey  Lemongrass  Obsidian  Phantom Black  Purple  Silver  \\\n",
       "BrandName                                                                      \n",
       "Apple                 0           0         0              0      22      22   \n",
       "Google                0          22        22              0       0       0   \n",
       "OnePlus              22           0         0              0       0       0   \n",
       "REDMI                 0           0         0              0       0       0   \n",
       "SAMSUNG               0           0         0             22      22       0   \n",
       "\n",
       "MobileColour  Snow  Sonic Black  Titan Black  White  White Includes EarPods  \n",
       "BrandName                                                                    \n",
       "Apple            0            0            0     22                      22  \n",
       "Google          22            0            0      0                       0  \n",
       "OnePlus          0           22           44      0                       0  \n",
       "REDMI            0            0            0      0                       0  \n",
       "SAMSUNG          0            0            0      0                       0  "
      ]
     },
     "execution_count": 91,
     "metadata": {},
     "output_type": "execute_result"
    }
   ],
   "source": [
    "pd.crosstab(df['BrandName'],df['MobileColour'])"
   ]
  },
  {
   "cell_type": "code",
   "execution_count": 94,
   "id": "6cb11b3e-d346-489c-bd19-3845a4959958",
   "metadata": {},
   "outputs": [],
   "source": [
    "crosstab=pd.crosstab(df['BrandName'],df['MobileColour'])"
   ]
  },
  {
   "cell_type": "code",
   "execution_count": 95,
   "id": "93774536-21d9-46ca-8f06-0b310b9dc827",
   "metadata": {},
   "outputs": [
    {
     "data": {
      "text/html": [
       "<div>\n",
       "<style scoped>\n",
       "    .dataframe tbody tr th:only-of-type {\n",
       "        vertical-align: middle;\n",
       "    }\n",
       "\n",
       "    .dataframe tbody tr th {\n",
       "        vertical-align: top;\n",
       "    }\n",
       "\n",
       "    .dataframe thead th {\n",
       "        text-align: right;\n",
       "    }\n",
       "</style>\n",
       "<table border=\"1\" class=\"dataframe\">\n",
       "  <thead>\n",
       "    <tr style=\"text-align: right;\">\n",
       "      <th>MobileColour</th>\n",
       "      <th>Awesome Iceblue</th>\n",
       "      <th>Awesome Navy</th>\n",
       "      <th>Black</th>\n",
       "      <th>Cool Blue</th>\n",
       "      <th>Emerald Forest</th>\n",
       "      <th>Eternal Green</th>\n",
       "      <th>Fusion Black</th>\n",
       "      <th>Fusion Purple</th>\n",
       "      <th>Fusion White</th>\n",
       "      <th>Iron Grey</th>\n",
       "      <th>Lemongrass</th>\n",
       "      <th>Obsidian</th>\n",
       "      <th>Phantom Black</th>\n",
       "      <th>Purple</th>\n",
       "      <th>Silver</th>\n",
       "      <th>Snow</th>\n",
       "      <th>Sonic Black</th>\n",
       "      <th>Titan Black</th>\n",
       "      <th>White</th>\n",
       "      <th>White Includes EarPods</th>\n",
       "    </tr>\n",
       "    <tr>\n",
       "      <th>BrandName</th>\n",
       "      <th></th>\n",
       "      <th></th>\n",
       "      <th></th>\n",
       "      <th></th>\n",
       "      <th></th>\n",
       "      <th></th>\n",
       "      <th></th>\n",
       "      <th></th>\n",
       "      <th></th>\n",
       "      <th></th>\n",
       "      <th></th>\n",
       "      <th></th>\n",
       "      <th></th>\n",
       "      <th></th>\n",
       "      <th></th>\n",
       "      <th></th>\n",
       "      <th></th>\n",
       "      <th></th>\n",
       "      <th></th>\n",
       "      <th></th>\n",
       "    </tr>\n",
       "  </thead>\n",
       "  <tbody>\n",
       "    <tr>\n",
       "      <th>Apple</th>\n",
       "      <td>0</td>\n",
       "      <td>0</td>\n",
       "      <td>22</td>\n",
       "      <td>0</td>\n",
       "      <td>0</td>\n",
       "      <td>0</td>\n",
       "      <td>0</td>\n",
       "      <td>0</td>\n",
       "      <td>0</td>\n",
       "      <td>0</td>\n",
       "      <td>0</td>\n",
       "      <td>0</td>\n",
       "      <td>0</td>\n",
       "      <td>22</td>\n",
       "      <td>22</td>\n",
       "      <td>0</td>\n",
       "      <td>0</td>\n",
       "      <td>0</td>\n",
       "      <td>22</td>\n",
       "      <td>22</td>\n",
       "    </tr>\n",
       "    <tr>\n",
       "      <th>Google</th>\n",
       "      <td>0</td>\n",
       "      <td>0</td>\n",
       "      <td>0</td>\n",
       "      <td>0</td>\n",
       "      <td>0</td>\n",
       "      <td>0</td>\n",
       "      <td>0</td>\n",
       "      <td>0</td>\n",
       "      <td>0</td>\n",
       "      <td>0</td>\n",
       "      <td>22</td>\n",
       "      <td>22</td>\n",
       "      <td>0</td>\n",
       "      <td>0</td>\n",
       "      <td>0</td>\n",
       "      <td>22</td>\n",
       "      <td>0</td>\n",
       "      <td>0</td>\n",
       "      <td>0</td>\n",
       "      <td>0</td>\n",
       "    </tr>\n",
       "    <tr>\n",
       "      <th>OnePlus</th>\n",
       "      <td>0</td>\n",
       "      <td>0</td>\n",
       "      <td>0</td>\n",
       "      <td>22</td>\n",
       "      <td>22</td>\n",
       "      <td>22</td>\n",
       "      <td>0</td>\n",
       "      <td>0</td>\n",
       "      <td>0</td>\n",
       "      <td>22</td>\n",
       "      <td>0</td>\n",
       "      <td>0</td>\n",
       "      <td>0</td>\n",
       "      <td>0</td>\n",
       "      <td>0</td>\n",
       "      <td>0</td>\n",
       "      <td>22</td>\n",
       "      <td>44</td>\n",
       "      <td>0</td>\n",
       "      <td>0</td>\n",
       "    </tr>\n",
       "    <tr>\n",
       "      <th>REDMI</th>\n",
       "      <td>0</td>\n",
       "      <td>0</td>\n",
       "      <td>0</td>\n",
       "      <td>0</td>\n",
       "      <td>0</td>\n",
       "      <td>0</td>\n",
       "      <td>22</td>\n",
       "      <td>22</td>\n",
       "      <td>22</td>\n",
       "      <td>0</td>\n",
       "      <td>0</td>\n",
       "      <td>0</td>\n",
       "      <td>0</td>\n",
       "      <td>0</td>\n",
       "      <td>0</td>\n",
       "      <td>0</td>\n",
       "      <td>0</td>\n",
       "      <td>0</td>\n",
       "      <td>0</td>\n",
       "      <td>0</td>\n",
       "    </tr>\n",
       "    <tr>\n",
       "      <th>SAMSUNG</th>\n",
       "      <td>22</td>\n",
       "      <td>22</td>\n",
       "      <td>0</td>\n",
       "      <td>0</td>\n",
       "      <td>0</td>\n",
       "      <td>0</td>\n",
       "      <td>0</td>\n",
       "      <td>0</td>\n",
       "      <td>0</td>\n",
       "      <td>0</td>\n",
       "      <td>0</td>\n",
       "      <td>0</td>\n",
       "      <td>22</td>\n",
       "      <td>22</td>\n",
       "      <td>0</td>\n",
       "      <td>0</td>\n",
       "      <td>0</td>\n",
       "      <td>0</td>\n",
       "      <td>0</td>\n",
       "      <td>0</td>\n",
       "    </tr>\n",
       "  </tbody>\n",
       "</table>\n",
       "</div>"
      ],
      "text/plain": [
       "MobileColour  Awesome Iceblue  Awesome Navy  Black  Cool Blue  Emerald Forest  \\\n",
       "BrandName                                                                       \n",
       "Apple                       0             0     22          0               0   \n",
       "Google                      0             0      0          0               0   \n",
       "OnePlus                     0             0      0         22              22   \n",
       "REDMI                       0             0      0          0               0   \n",
       "SAMSUNG                    22            22      0          0               0   \n",
       "\n",
       "MobileColour  Eternal Green  Fusion Black  Fusion Purple  Fusion White  \\\n",
       "BrandName                                                                \n",
       "Apple                     0             0              0             0   \n",
       "Google                    0             0              0             0   \n",
       "OnePlus                  22             0              0             0   \n",
       "REDMI                     0            22             22            22   \n",
       "SAMSUNG                   0             0              0             0   \n",
       "\n",
       "MobileColour  Iron Grey  Lemongrass  Obsidian  Phantom Black  Purple  Silver  \\\n",
       "BrandName                                                                      \n",
       "Apple                 0           0         0              0      22      22   \n",
       "Google                0          22        22              0       0       0   \n",
       "OnePlus              22           0         0              0       0       0   \n",
       "REDMI                 0           0         0              0       0       0   \n",
       "SAMSUNG               0           0         0             22      22       0   \n",
       "\n",
       "MobileColour  Snow  Sonic Black  Titan Black  White  White Includes EarPods  \n",
       "BrandName                                                                    \n",
       "Apple            0            0            0     22                      22  \n",
       "Google          22            0            0      0                       0  \n",
       "OnePlus          0           22           44      0                       0  \n",
       "REDMI            0            0            0      0                       0  \n",
       "SAMSUNG          0            0            0      0                       0  "
      ]
     },
     "execution_count": 95,
     "metadata": {},
     "output_type": "execute_result"
    }
   ],
   "source": [
    "crosstab"
   ]
  },
  {
   "cell_type": "markdown",
   "id": "0123d739-8bdb-405e-b979-c5c18063d17a",
   "metadata": {},
   "source": [
    "# plots we can be drawn based on the data features\\columns"
   ]
  },
  {
   "cell_type": "code",
   "execution_count": 133,
   "id": "075ecd0b-6764-4f29-9670-35bf059aa8d0",
   "metadata": {},
   "outputs": [
    {
     "data": {
      "text/plain": [
       "<Axes: xlabel='ProductPrices', ylabel='BrandName'>"
      ]
     },
     "execution_count": 133,
     "metadata": {},
     "output_type": "execute_result"
    },
    {
     "data": {
      "text/plain": [
       "(array([30000., 35000., 40000., 45000., 50000., 55000., 60000.]),\n",
       " [Text(30000.0, 0, '30000'),\n",
       "  Text(35000.0, 0, '35000'),\n",
       "  Text(40000.0, 0, '40000'),\n",
       "  Text(45000.0, 0, '45000'),\n",
       "  Text(50000.0, 0, '50000'),\n",
       "  Text(55000.0, 0, '55000'),\n",
       "  Text(60000.0, 0, '60000')])"
      ]
     },
     "execution_count": 133,
     "metadata": {},
     "output_type": "execute_result"
    },
    {
     "data": {
      "image/png": "[encoded data removed]",
      "text/plain": [
       "<Figure size 640x480 with 1 Axes>"
      ]
     },
     "metadata": {},
     "output_type": "display_data"
    }
   ],
   "source": [
    "# scatter plot\n",
    "sns.scatterplot(x=df.ProductPrices,y=df.BrandName,hue=df.ProductReviews)\n",
    "plt.xticks(rotation=90)\n",
    "plt.show()"
   ]
  },
  {
   "cell_type": "code",
   "execution_count": 7,
   "id": "05e9eb12-9850-47a4-94fa-732e17c76b07",
   "metadata": {},
   "outputs": [
    {
     "data": {
      "text/plain": [
       "<Figure size 640x480 with 0 Axes>"
      ]
     },
     "metadata": {},
     "output_type": "display_data"
    }
   ],
   "source": [
    "plt.savefig('Brand_Price_Review.png')"
   ]
  },
  {
   "cell_type": "markdown",
   "id": "7ff0223d-d5c5-438b-981d-f7acb3f3b589",
   "metadata": {},
   "source": [
    "the scatter plot reprsents the two variables i.e,Product prices and brand name x-axis contain product price and the y-axis contain brand name each point \n",
    "of the scatter plot represents the combination of the product price and brand name the main thing we observe here is the x and y axis are corresponds \n",
    "at one point it shows the product reviews based on that here we can easily identify which brand is available within a budget and contain best reviews \n",
    "from this graph Oneplus is friendly budget and it contains 4.5 rating"
   ]
  },
  {
   "cell_type": "code",
   "execution_count": 57,
   "id": "0efb2b24-5ac9-4d38-83bf-fc13485c22e0",
   "metadata": {},
   "outputs": [
    {
     "data": {
      "text/plain": [
       "<Axes: xlabel='ProductPrices', ylabel='Density'>"
      ]
     },
     "execution_count": 57,
     "metadata": {},
     "output_type": "execute_result"
    },
    {
     "data": {
      "text/plain": [
       "Text(0.5, 1.0, 'Histogram plot')"
      ]
     },
     "execution_count": 57,
     "metadata": {},
     "output_type": "execute_result"
    },
    {
     "data": {
      "image/png": "[encoded data removed]",
      "text/plain": [
       "<Figure size 640x480 with 1 Axes>"
      ]
     },
     "metadata": {},
     "output_type": "display_data"
    }
   ],
   "source": [
    "sns.distplot(df.ProductPrices,kde=True)\n",
    "plt.title('Histogram plot')\n",
    "plt.show()"
   ]
  },
  {
   "cell_type": "markdown",
   "id": "57206f56-0272-44a1-8ea5-f16a18cda47a",
   "metadata": {},
   "source": [
    "from the above plot the x-axis represents the prices of the products and the y-axis rpresents the density here the prices are starting from nearly 27k to 60+k \n",
    "but many are showing intrest to buy the price lies in between 45k to 50k but the median value for the prpoduct price is 46k.many people much showing \n",
    "intrest to buy mobile with their desired features in a budget so here we can understand the mobile we get with all features in the budget of 46k"
   ]
  },
  {
   "cell_type": "code",
   "execution_count": 58,
   "id": "ecf39833-f7fa-4491-8179-0f8e94d28f76",
   "metadata": {},
   "outputs": [
    {
     "data": {
      "text/plain": [
       "<Axes: >"
      ]
     },
     "execution_count": 58,
     "metadata": {},
     "output_type": "execute_result"
    },
    {
     "data": {
      "image/png": "[encoded data removed]",
      "text/plain": [
       "<Figure size 640x480 with 2 Axes>"
      ]
     },
     "metadata": {},
     "output_type": "display_data"
    }
   ],
   "source": [
    "# heat map\n",
    "sns.heatmap(df[['ProductPrices','ProductReviews']].corr(),annot=True)\n",
    "plt.show()"
   ]
  },
  {
   "cell_type": "markdown",
   "id": "56392d8d-69db-404f-a58f-963a39176545",
   "metadata": {},
   "source": [
    "heatmap is a graphical representation of data where values are represented as colors.the x-axis represents one variable, and the y-axis \n",
    "represents another variable. In the case of a heatmap showing product prices and product reviews, the x-axis might represent different price ranges \n",
    "and the y-axis might represent different review scores. The cells in the heatmap would then be colored based on the frequency or density of products \n",
    "with a given price range and review score."
   ]
  },
  {
   "cell_type": "markdown",
   "id": "330ab500-8d17-494d-ac04-64de5f99c39f",
   "metadata": {},
   "source": [
    "conclusion"
   ]
  },
  {
   "cell_type": "code",
   "execution_count": 59,
   "id": "af8d3a33-1675-4362-98f4-f81131674cc9",
   "metadata": {},
   "outputs": [
    {
     "data": {
      "text/plain": [
       "(array([176.,   0.,   0.,  44.,   0.,   0., 264.,   0.,   0.,  44.]),\n",
       " array([0. , 0.3, 0.6, 0.9, 1.2, 1.5, 1.8, 2.1, 2.4, 2.7, 3. ]),\n",
       " <BarContainer object of 10 artists>)"
      ]
     },
     "execution_count": 59,
     "metadata": {},
     "output_type": "execute_result"
    },
    {
     "data": {
      "image/png": "[encoded data removed]",
      "text/plain": [
       "<Figure size 640x480 with 1 Axes>"
      ]
     },
     "metadata": {},
     "output_type": "display_data"
    }
   ],
   "source": [
    "#histogram\n",
    "plt.hist(df.ROM)"
   ]
  },
  {
   "cell_type": "markdown",
   "id": "ba2ebb14-6830-4dc9-85ad-b8776e017cad",
   "metadata": {},
   "source": [
    "here the histogram plot represents the differnt sizes of ROM it lies on the x-axisand the counts are in teh y-axis here if we observe the graph \n",
    "the mostly mobiles containg 128 gb ROM and the less mobiles contain 512 GB ROM the 128 GB ROM are avaible in oneplus brand which is in friendly budget "
   ]
  },
  {
   "cell_type": "code",
   "execution_count": 142,
   "id": "6384c067-b9bc-44ee-abd2-36902220bc67",
   "metadata": {},
   "outputs": [
    {
     "data": {
      "text/plain": [
       "<matplotlib.collections.PathCollection at 0x1a05defb1d0>"
      ]
     },
     "execution_count": 142,
     "metadata": {},
     "output_type": "execute_result"
    },
    {
     "data": {
      "text/plain": [
       "Text(0.5, 1.0, 'BrandName vs ProductPrices')"
      ]
     },
     "execution_count": 142,
     "metadata": {},
     "output_type": "execute_result"
    },
    {
     "data": {
      "text/plain": [
       "(array([30000., 35000., 40000., 45000., 50000., 55000., 60000.]),\n",
       " [Text(30000.0, 0, '30000'),\n",
       "  Text(35000.0, 0, '35000'),\n",
       "  Text(40000.0, 0, '40000'),\n",
       "  Text(45000.0, 0, '45000'),\n",
       "  Text(50000.0, 0, '50000'),\n",
       "  Text(55000.0, 0, '55000'),\n",
       "  Text(60000.0, 0, '60000')])"
      ]
     },
     "execution_count": 142,
     "metadata": {},
     "output_type": "execute_result"
    },
    {
     "data": {
      "image/png": "[encoded data removed]",
      "text/plain": [
       "<Figure size 640x480 with 1 Axes>"
      ]
     },
     "metadata": {},
     "output_type": "display_data"
    }
   ],
   "source": [
    "#scatter\n",
    "plt.scatter(df.ProductPrices,df.BrandName)\n",
    "plt.title('BrandName vs ProductPrices')\n",
    "plt.xlabel=('BrandName')\n",
    "plt.ylabel=('ProductPrices')\n",
    "plt.xticks(rotation=90)\n",
    "plt.show()"
   ]
  },
  {
   "cell_type": "code",
   "execution_count": null,
   "id": "3e19e051-d4bd-454d-967f-63a523b7261d",
   "metadata": {},
   "outputs": [],
   "source": [
    "plt.savefig('Brand_Price.png')"
   ]
  },
  {
   "cell_type": "markdown",
   "id": "432e3946-4c62-461e-89c3-b3eef1962712",
   "metadata": {},
   "source": [
    "the scatter plot represents the relation between the brandname and product prices.brandname lies on the x-axis and the product prices lies on y-axis \n",
    "here we can observe the prices are start from the below 35k and above 55k but the only one brand is availble from lowest price to highest for the \n",
    "people based on their budget so we have to more focus on the brand i.e,Oneplus "
   ]
  },
  {
   "cell_type": "code",
   "execution_count": 251,
   "id": "3d05f6b2-15d3-430f-aaba-ba873b1da27d",
   "metadata": {},
   "outputs": [
    {
     "data": {
      "text/plain": [
       "<Axes: xlabel='BrandName', ylabel='Camera'>"
      ]
     },
     "execution_count": 251,
     "metadata": {},
     "output_type": "execute_result"
    },
    {
     "ename": "TypeError",
     "evalue": "'str' object is not callable",
     "output_type": "error",
     "traceback": [
      "\u001b[1;31m---------------------------------------------------------------------------\u001b[0m",
      "\u001b[1;31mTypeError\u001b[0m                                 Traceback (most recent call last)",
      "Cell \u001b[1;32mIn[251], line 3\u001b[0m\n\u001b[0;32m      1\u001b[0m \u001b[38;5;66;03m#lineplot\u001b[39;00m\n\u001b[0;32m      2\u001b[0m sns\u001b[38;5;241m.\u001b[39mlineplot(y\u001b[38;5;241m=\u001b[39mdf\u001b[38;5;241m.\u001b[39mCamera,x\u001b[38;5;241m=\u001b[39mdf\u001b[38;5;241m.\u001b[39mBrandName)\n\u001b[1;32m----> 3\u001b[0m plt\u001b[38;5;241m.\u001b[39mylabel(\u001b[38;5;124m'\u001b[39m\u001b[38;5;124mCamera\u001b[39m\u001b[38;5;124m'\u001b[39m)\n\u001b[0;32m      4\u001b[0m plt\u001b[38;5;241m.\u001b[39mxlabel(\u001b[38;5;124m'\u001b[39m\u001b[38;5;124mBrandName\u001b[39m\u001b[38;5;124m'\u001b[39m)\n\u001b[0;32m      5\u001b[0m plt\u001b[38;5;241m.\u001b[39mxticks(rotation\u001b[38;5;241m=\u001b[39m\u001b[38;5;241m90\u001b[39m)\n",
      "\u001b[1;31mTypeError\u001b[0m: 'str' object is not callable"
     ]
    },
    {
     "data": {
      "image/png": "[encoded data removed]",
      "text/plain": [
       "<Figure size 640x480 with 1 Axes>"
      ]
     },
     "metadata": {},
     "output_type": "display_data"
    }
   ],
   "source": [
    "#lineplot\n",
    "sns.lineplot(y=df.Camera,x=df.BrandName)\n",
    "plt.ylabel('Camera')\n",
    "plt.xlabel('BrandName')\n",
    "plt.xticks(rotation=90)\n",
    "plt.show()"
   ]
  },
  {
   "cell_type": "code",
   "execution_count": null,
   "id": "a11e4354-f492-4bb0-8757-cede30d03edb",
   "metadata": {},
   "outputs": [],
   "source": [
    "the line plot shows the x-axis represents the brandnames and the y-axis represents the mega pixel count the graph represents the camera of each brand \n",
    "and the camera mega pixel count foe easily analyse to compare the camera specifications with the other brands "
   ]
  },
  {
   "cell_type": "code",
   "execution_count": 252,
   "id": "23f3faf3-9b52-4603-850e-6eb532f95a53",
   "metadata": {},
   "outputs": [
    {
     "data": {
      "text/plain": [
       "<Figure size 1500x500 with 0 Axes>"
      ]
     },
     "execution_count": 252,
     "metadata": {},
     "output_type": "execute_result"
    },
    {
     "data": {
      "text/plain": [
       "<Axes: xlabel='BrandName', ylabel='ProductPrices'>"
      ]
     },
     "execution_count": 252,
     "metadata": {},
     "output_type": "execute_result"
    },
    {
     "ename": "TypeError",
     "evalue": "'str' object is not callable",
     "output_type": "error",
     "traceback": [
      "\u001b[1;31m---------------------------------------------------------------------------\u001b[0m",
      "\u001b[1;31mTypeError\u001b[0m                                 Traceback (most recent call last)",
      "Cell \u001b[1;32mIn[252], line 4\u001b[0m\n\u001b[0;32m      2\u001b[0m plt\u001b[38;5;241m.\u001b[39mfigure(figsize\u001b[38;5;241m=\u001b[39m(\u001b[38;5;241m15\u001b[39m,\u001b[38;5;241m5\u001b[39m))\n\u001b[0;32m      3\u001b[0m sns\u001b[38;5;241m.\u001b[39mbarplot(x\u001b[38;5;241m=\u001b[39mdf\u001b[38;5;241m.\u001b[39mBrandName,y\u001b[38;5;241m=\u001b[39mdf\u001b[38;5;241m.\u001b[39mProductPrices)\n\u001b[1;32m----> 4\u001b[0m plt\u001b[38;5;241m.\u001b[39mxlabel(\u001b[38;5;124m'\u001b[39m\u001b[38;5;124mBrandName\u001b[39m\u001b[38;5;124m'\u001b[39m)\n\u001b[0;32m      5\u001b[0m plt\u001b[38;5;241m.\u001b[39mylabel(\u001b[38;5;124m'\u001b[39m\u001b[38;5;124mProducPrices)\u001b[39m\u001b[38;5;124m'\u001b[39m)\n\u001b[0;32m      6\u001b[0m plt\u001b[38;5;241m.\u001b[39mxticks(rotation\u001b[38;5;241m=\u001b[39m\u001b[38;5;241m90\u001b[39m)\n",
      "\u001b[1;31mTypeError\u001b[0m: 'str' object is not callable"
     ]
    },
    {
     "data": {
      "image/png": "[encoded data removed]",
      "text/plain": [
       "<Figure size 1500x500 with 1 Axes>"
      ]
     },
     "metadata": {},
     "output_type": "display_data"
    }
   ],
   "source": [
    "#barplot\n",
    "plt.figure(figsize=(15,5))\n",
    "sns.barplot(x=df.BrandName,y=df.ProductPrices)\n",
    "plt.xlabel('BrandName')\n",
    "plt.ylabel('ProducPrices)')\n",
    "plt.xticks(rotation=90)\n",
    "plt.show()"
   ]
  },
  {
   "cell_type": "code",
   "execution_count": null,
   "id": "bdbae7d7-f296-49b4-8972-3e2528f573d6",
   "metadata": {},
   "outputs": [],
   "source": [
    "#the bar graph contain the brandname and product prices  the brand names are listed on the x-axis and the prices are listed on the y-axis it explains \n",
    "#apple lies on the highest price and SAMSUNG,Oneplus,Google lies on moderate prices and the REDMI has the lowest price "
   ]
  },
  {
   "cell_type": "markdown",
   "id": "078c2b0d-0810-4b14-9642-d50f7e7bfce9",
   "metadata": {},
   "source": [
    "# Conclusion"
   ]
  },
  {
   "cell_type": "code",
   "execution_count": null,
   "id": "61f1e3f2-194e-4182-beef-e8012face145",
   "metadata": {},
   "outputs": [],
   "source": [
    "#Smart phones are Essential tools in our daily life they help us to communicate, socialize and interact with eachother at any point in time.the \n",
    "#consumers buying a variety of smartphones which satisfy their wants and they are always influenced by his purchasing activities by some considerations \n",
    "#which leads to select a particular brand or a particular operating systems in preferred to others.From this study I collected some data from the \n",
    "#website i.e, Flipkart to analyse and compare the data easily based on their features it gives some idea to the consumers easily. Here is the extracted \n",
    "#and cleaned data in. Csv format , is useful to do data analysis on mobile phone purchases from the above data i would like to suggest the brand Oneplus\n",
    "#because from the analysing data i observe Maximum of what the customers want is found in it and also it is avaible in within budget."
   ]
  },
  {
   "cell_type": "code",
   "execution_count": null,
   "id": "1ea7c88f-1cc4-4699-8672-0ad8121b4ac3",
   "metadata": {},
   "outputs": [],
   "source": []
  }
 ],
 "metadata": {
  "kernelspec": {
   "display_name": "Python 3 (ipykernel)",
   "language": "python",
   "name": "python3"
  },
  "language_info": {
   "codemirror_mode": {
    "name": "ipython",
    "version": 3
   },
   "file_extension": ".py",
   "mimetype": "text/x-python",
   "name": "python",
   "nbconvert_exporter": "python",
   "pygments_lexer": "ipython3",
   "version": "3.11.7"
  }
 },
 "nbformat": 4,
 "nbformat_minor": 5
}
